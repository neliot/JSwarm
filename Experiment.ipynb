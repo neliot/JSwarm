{
 "cells": [
  {
   "cell_type": "markdown",
   "metadata": {},
   "source": [
    "<H1>DRAW SWARM ANALYSIS</H1>"
   ]
  },
  {
   "cell_type": "code",
   "execution_count": 1,
   "metadata": {},
   "outputs": [],
   "source": [
    "import pandas as pd\n",
    "import numpy as np\n",
    "from mpl_toolkits.mplot3d import Axes3D\n",
    "from matplotlib import cm\n",
    "from pandas import DataFrame, read_csv\n",
    "import matplotlib.pyplot as plt\n",
    "pd.set_option('display.max_columns', 500)\n",
    "pd.set_option('display.width', 120)"
   ]
  },
  {
   "cell_type": "markdown",
   "metadata": {},
   "source": [
    "<h2>LOAD DATA</h2>"
   ]
  },
  {
   "cell_type": "code",
   "execution_count": 2,
   "metadata": {},
   "outputs": [],
   "source": [
    "S=pd.read_csv('./data/csv/exp.p.csv')\n",
    "C=pd.read_csv('./data/csv/exp.c.csv')\n",
    "R=pd.read_csv('./data/csv/exp.r.csv')"
   ]
  },
  {
   "cell_type": "markdown",
   "metadata": {},
   "source": [
    "<h2>EXTRACT STEP</h2>\n",
    "Set <code>step</code> for position in simulation<br>\n",
    "Set <code>id</code> for individual agent of interest."
   ]
  },
  {
   "cell_type": "code",
   "execution_count": 28,
   "metadata": {},
   "outputs": [],
   "source": [
    "step=1\n",
    "id=23\n",
    "#SWARM DATA\n",
    "AGENTS=S[[\"STEP\",\"ID\",\"X\",\"Y\"]].query(\"STEP==%d\" % step)\n",
    "COHESION=C[[\"STEP\",\"PID\",\"PX\",\"PY\",\"NID\",\"NX\",\"NY\",\"PPERIM\",\"NPERIM\"]].query(\"STEP==%d\" % step)\n",
    "COHESIONP=COHESION[[\"STEP\",\"PID\",\"PX\",\"PY\",\"NID\",\"NX\",\"NY\",\"PPERIM\",\"NPERIM\"]].query(\"PPERIM==True and NPERIM==True\")\n",
    "REPULSION=R[[\"STEP\",\"PX\",\"PY\",\"NX\",\"NY\",]].query(\"STEP==%d\" % step)\n",
    "\n",
    "#AGENT DATA\n",
    "AGENT=S[[\"STEP\",\"ID\",\"X\",\"Y\"]].query(\"STEP==%d and ID==%d\" % (step,id))\n",
    "ACOHESION=C[[\"STEP\",\"PID\",\"PX\",\"PY\",\"NID\",\"NX\",\"NY\",]].query(\"STEP==%d and PID==%d\" % (step,id))\n",
    "ACOHESIONP=C[[\"STEP\",\"PID\",\"PX\",\"PY\",\"NID\",\"NX\",\"NY\",\"PPERIM\",\"NPERIM\"]].query(\"PPERIM==True and NPERIM==True and STEP==%d and PID==%d\" % (step,id))\n",
    "AREPULSION=R[[\"STEP\",\"PID\",\"PX\",\"PY\",\"NID\",\"NX\",\"NY\",]].query(\"STEP==%d and PID==%d\" % (step,id))\n"
   ]
  },
  {
   "cell_type": "code",
   "execution_count": 32,
   "metadata": {},
   "outputs": [
    {
     "output_type": "execute_result",
     "data": {
      "text/plain": [
       "     STEP  PID        PX         PY  NID        NX         NY  PPERIM  NPERIM\n",
       "0       1    0 -5.129051  -0.607287    2 -6.308067   1.157205    True    True\n",
       "1       1    0 -5.129051  -0.607287    5 -3.985363  -2.291856    True    True\n",
       "2       1    0 -5.129051  -0.607287   21 -6.520704  -2.614156    True    True\n",
       "3       1    0 -5.129051  -0.607287   23 -7.152318  -0.685067    True    True\n",
       "10      1    2 -6.308067   1.157205   24 -8.065715   2.212842    True    True\n",
       "..    ...  ...       ...        ...  ...       ...        ...     ...     ...\n",
       "457     1   94 -6.001287  10.907041   96 -4.489357  12.287177    True    True\n",
       "461     1   95 -2.875651  13.494843   64 -0.987650  12.866195    True    True\n",
       "463     1   95 -2.875651  13.494843   96 -4.489357  12.287177    True    True\n",
       "464     1   96 -4.489357  12.287177   95 -2.875651  13.494843    True    True\n",
       "467     1   96 -4.489357  12.287177   94 -6.001287  10.907041    True    True\n",
       "\n",
       "[178 rows x 9 columns]"
      ],
      "text/html": "<div>\n<style scoped>\n    .dataframe tbody tr th:only-of-type {\n        vertical-align: middle;\n    }\n\n    .dataframe tbody tr th {\n        vertical-align: top;\n    }\n\n    .dataframe thead th {\n        text-align: right;\n    }\n</style>\n<table border=\"1\" class=\"dataframe\">\n  <thead>\n    <tr style=\"text-align: right;\">\n      <th></th>\n      <th>STEP</th>\n      <th>PID</th>\n      <th>PX</th>\n      <th>PY</th>\n      <th>NID</th>\n      <th>NX</th>\n      <th>NY</th>\n      <th>PPERIM</th>\n      <th>NPERIM</th>\n    </tr>\n  </thead>\n  <tbody>\n    <tr>\n      <th>0</th>\n      <td>1</td>\n      <td>0</td>\n      <td>-5.129051</td>\n      <td>-0.607287</td>\n      <td>2</td>\n      <td>-6.308067</td>\n      <td>1.157205</td>\n      <td>True</td>\n      <td>True</td>\n    </tr>\n    <tr>\n      <th>1</th>\n      <td>1</td>\n      <td>0</td>\n      <td>-5.129051</td>\n      <td>-0.607287</td>\n      <td>5</td>\n      <td>-3.985363</td>\n      <td>-2.291856</td>\n      <td>True</td>\n      <td>True</td>\n    </tr>\n    <tr>\n      <th>2</th>\n      <td>1</td>\n      <td>0</td>\n      <td>-5.129051</td>\n      <td>-0.607287</td>\n      <td>21</td>\n      <td>-6.520704</td>\n      <td>-2.614156</td>\n      <td>True</td>\n      <td>True</td>\n    </tr>\n    <tr>\n      <th>3</th>\n      <td>1</td>\n      <td>0</td>\n      <td>-5.129051</td>\n      <td>-0.607287</td>\n      <td>23</td>\n      <td>-7.152318</td>\n      <td>-0.685067</td>\n      <td>True</td>\n      <td>True</td>\n    </tr>\n    <tr>\n      <th>10</th>\n      <td>1</td>\n      <td>2</td>\n      <td>-6.308067</td>\n      <td>1.157205</td>\n      <td>24</td>\n      <td>-8.065715</td>\n      <td>2.212842</td>\n      <td>True</td>\n      <td>True</td>\n    </tr>\n    <tr>\n      <th>...</th>\n      <td>...</td>\n      <td>...</td>\n      <td>...</td>\n      <td>...</td>\n      <td>...</td>\n      <td>...</td>\n      <td>...</td>\n      <td>...</td>\n      <td>...</td>\n    </tr>\n    <tr>\n      <th>457</th>\n      <td>1</td>\n      <td>94</td>\n      <td>-6.001287</td>\n      <td>10.907041</td>\n      <td>96</td>\n      <td>-4.489357</td>\n      <td>12.287177</td>\n      <td>True</td>\n      <td>True</td>\n    </tr>\n    <tr>\n      <th>461</th>\n      <td>1</td>\n      <td>95</td>\n      <td>-2.875651</td>\n      <td>13.494843</td>\n      <td>64</td>\n      <td>-0.987650</td>\n      <td>12.866195</td>\n      <td>True</td>\n      <td>True</td>\n    </tr>\n    <tr>\n      <th>463</th>\n      <td>1</td>\n      <td>95</td>\n      <td>-2.875651</td>\n      <td>13.494843</td>\n      <td>96</td>\n      <td>-4.489357</td>\n      <td>12.287177</td>\n      <td>True</td>\n      <td>True</td>\n    </tr>\n    <tr>\n      <th>464</th>\n      <td>1</td>\n      <td>96</td>\n      <td>-4.489357</td>\n      <td>12.287177</td>\n      <td>95</td>\n      <td>-2.875651</td>\n      <td>13.494843</td>\n      <td>True</td>\n      <td>True</td>\n    </tr>\n    <tr>\n      <th>467</th>\n      <td>1</td>\n      <td>96</td>\n      <td>-4.489357</td>\n      <td>12.287177</td>\n      <td>94</td>\n      <td>-6.001287</td>\n      <td>10.907041</td>\n      <td>True</td>\n      <td>True</td>\n    </tr>\n  </tbody>\n</table>\n<p>178 rows × 9 columns</p>\n</div>"
     },
     "metadata": {},
     "execution_count": 32
    }
   ],
   "source": [
    "COHESIONP"
   ]
  },
  {
   "cell_type": "code",
   "execution_count": 30,
   "metadata": {},
   "outputs": [
    {
     "output_type": "execute_result",
     "data": {
      "text/plain": [
       "   STEP  PID        PX        PY  NID        NX        NY  PPERIM  NPERIM\n",
       "0     1    0 -5.129051 -0.607287    2 -6.308067  1.157205    True    True\n",
       "1     1    0 -5.129051 -0.607287    5 -3.985363 -2.291856    True    True\n",
       "2     1    0 -5.129051 -0.607287   21 -6.520704 -2.614156    True    True\n",
       "3     1    0 -5.129051 -0.607287   23 -7.152318 -0.685067    True    True"
      ],
      "text/html": "<div>\n<style scoped>\n    .dataframe tbody tr th:only-of-type {\n        vertical-align: middle;\n    }\n\n    .dataframe tbody tr th {\n        vertical-align: top;\n    }\n\n    .dataframe thead th {\n        text-align: right;\n    }\n</style>\n<table border=\"1\" class=\"dataframe\">\n  <thead>\n    <tr style=\"text-align: right;\">\n      <th></th>\n      <th>STEP</th>\n      <th>PID</th>\n      <th>PX</th>\n      <th>PY</th>\n      <th>NID</th>\n      <th>NX</th>\n      <th>NY</th>\n      <th>PPERIM</th>\n      <th>NPERIM</th>\n    </tr>\n  </thead>\n  <tbody>\n    <tr>\n      <th>0</th>\n      <td>1</td>\n      <td>0</td>\n      <td>-5.129051</td>\n      <td>-0.607287</td>\n      <td>2</td>\n      <td>-6.308067</td>\n      <td>1.157205</td>\n      <td>True</td>\n      <td>True</td>\n    </tr>\n    <tr>\n      <th>1</th>\n      <td>1</td>\n      <td>0</td>\n      <td>-5.129051</td>\n      <td>-0.607287</td>\n      <td>5</td>\n      <td>-3.985363</td>\n      <td>-2.291856</td>\n      <td>True</td>\n      <td>True</td>\n    </tr>\n    <tr>\n      <th>2</th>\n      <td>1</td>\n      <td>0</td>\n      <td>-5.129051</td>\n      <td>-0.607287</td>\n      <td>21</td>\n      <td>-6.520704</td>\n      <td>-2.614156</td>\n      <td>True</td>\n      <td>True</td>\n    </tr>\n    <tr>\n      <th>3</th>\n      <td>1</td>\n      <td>0</td>\n      <td>-5.129051</td>\n      <td>-0.607287</td>\n      <td>23</td>\n      <td>-7.152318</td>\n      <td>-0.685067</td>\n      <td>True</td>\n      <td>True</td>\n    </tr>\n  </tbody>\n</table>\n</div>"
     },
     "metadata": {},
     "execution_count": 30
    }
   ],
   "source": [
    "COHESIONP[COHESIONP[\"PID\"]==0]"
   ]
  },
  {
   "cell_type": "code",
   "execution_count": 22,
   "metadata": {},
   "outputs": [],
   "source": [
    "#NEIGHBOURS LINK DATA\n",
    "NEIGHBOURS=ACOHESION[\"NID\"]\n",
    "#NEIGHBOUR LINKS FOR STEP EXCLUDING THE TARGET AGENT \n",
    "STEPCOH=COHESION.query(\"STEP==%d and PID!=%d and NID!=%d\" % (step,id,id))\n",
    "# FILTER NEIGHBOUR STARTING POINTS USING A LIST\n",
    "STARTCOH=STEPCOH[STEPCOH['PID'].isin(NEIGHBOURS)]\n",
    "# FILTER NEIGHBOUR END POINTS USING A LIST\n",
    "NEIGHBOURCOH=STARTCOH[STARTCOH['NID'].isin(NEIGHBOURS)]"
   ]
  },
  {
   "cell_type": "markdown",
   "metadata": {},
   "source": [
    "<h2>SWARM GRAPH</h2><br>\n",
    "FULL SWARM GRAPH"
   ]
  },
  {
   "cell_type": "code",
   "execution_count": 23,
   "metadata": {},
   "outputs": [],
   "source": [
    "%matplotlib qt\n",
    "plt.scatter(AGENTS[\"X\"],AGENTS[\"Y\"],s=100,color=\"green\")\n",
    "for i,row in COHESION.iterrows():\n",
    "    plt.annotate(\"%5d\"%row[\"PID\"],(row[\"PX\"],row[\"PY\"]))\n",
    "for i,row in COHESION.iterrows():\n",
    "    plt.plot([row[\"PX\"], row[\"NX\"]], [row[\"PY\"], row[\"NY\"]],color=\"lightgreen\")\n",
    "for i,row in COHESIONP.iterrows():\n",
    "    plt.plot([row[\"PX\"], row[\"NX\"]], [row[\"PY\"], row[\"NY\"]],color=\"darkgreen\")\n",
    "\n",
    "plt.title(\"Swarm Cohesion at STEP:[%d]\" % step)\n",
    "plt.grid()\n",
    "plt.gca().set_aspect(\"equal\")\n",
    "plt.xlabel(\"X\")\n",
    "plt.ylabel(\"Y\")\n",
    "plt.tight_layout()\n",
    "plt.show()"
   ]
  },
  {
   "cell_type": "markdown",
   "metadata": {},
   "source": [
    "REPULSION GRAPH"
   ]
  },
  {
   "cell_type": "code",
   "execution_count": null,
   "metadata": {},
   "outputs": [],
   "source": [
    "%matplotlib qt\n",
    "for i,row in REPULSION.iterrows():\n",
    "    plt.plot([row[\"PX\"], row[\"NX\"]], [row[\"PY\"], row[\"NY\"]],\"r-\")\n",
    "plt.scatter(AGENTS[\"X\"],AGENTS[\"Y\"],s=100)\n",
    "plt.title(\"Swarm Repulsion at STEP:[%d]\" % step)\n",
    "plt.grid()\n",
    "plt.gca().set_aspect(\"equal\")\n",
    "plt.xlabel(\"X\")\n",
    "plt.ylabel(\"Y\")\n",
    "plt.tight_layout()"
   ]
  },
  {
   "cell_type": "markdown",
   "metadata": {},
   "source": [
    "<H3>INDIVIDUAL AGENT GRAPHS</H3><br>\n",
    "AGENT AND NEIGHBOURS"
   ]
  },
  {
   "cell_type": "code",
   "execution_count": null,
   "metadata": {},
   "outputs": [],
   "source": [
    "%matplotlib qt\n",
    "plt.scatter(AGENT[\"X\"],AGENT[\"Y\"],s=100,color=\"green\")\n",
    "plt.scatter(ACOHESION[\"NX\"],ACOHESION[\"NY\"],s=100,color=\"green\")\n",
    "for i,row in ACOHESION.iterrows():\n",
    "    plt.annotate(\"%5d\"%row[\"PID\"],(row[\"PX\"],row[\"PY\"]))\n",
    "for i,row in ACOHESION.iterrows():\n",
    "    plt.annotate(\"%5d\"%row[\"NID\"],(row[\"NX\"],row[\"NY\"]))\n",
    "for i,row in ACOHESION.iterrows():\n",
    "    plt.plot([row[\"PX\"], row[\"NX\"]], [row[\"PY\"], row[\"NY\"]],color=\"lightgreen\")\n",
    "for i,row in ACOHESIONP.iterrows():\n",
    "    plt.plot([row[\"PX\"], row[\"NX\"]], [row[\"PY\"], row[\"NY\"]],color=\"darkgreen\")\n",
    "\n",
    "plt.title(\"Single Agent [%d] Swarm Cohesion at STEP:[%d]\" % (id,step))\n",
    "plt.grid()\n",
    "plt.gca().set_aspect(\"equal\")\n",
    "plt.xlabel(\"X\")\n",
    "plt.ylabel(\"Y\")\n",
    "plt.tight_layout()\n",
    "plt.show()"
   ]
  },
  {
   "cell_type": "code",
   "execution_count": null,
   "metadata": {},
   "outputs": [],
   "source": [
    "ACOHESION.to_csv(\"agent.csv\")"
   ]
  },
  {
   "cell_type": "markdown",
   "metadata": {},
   "source": [
    "AGENT AND NEIGHBOURS WITH NEIGHBOUR LINKS SHOWN"
   ]
  },
  {
   "cell_type": "code",
   "execution_count": null,
   "metadata": {},
   "outputs": [],
   "source": [
    "%matplotlib qt\n",
    "plt.scatter(AGENT[\"X\"],AGENT[\"Y\"],s=100,color=\"green\")\n",
    "plt.scatter(ACOHESION[\"NX\"],ACOHESION[\"NY\"],s=100,color=\"green\")\n",
    "for i,row in NEIGHBOURCOH.iterrows():\n",
    "    plt.plot([row[\"PX\"], row[\"NX\"]], [row[\"PY\"], row[\"NY\"]],color=\"black\")\n",
    "for i,row in ACOHESION.iterrows():\n",
    "    plt.annotate(\"%5d\"%row[\"PID\"],(row[\"PX\"],row[\"PY\"]))\n",
    "for i,row in ACOHESION.iterrows():\n",
    "    plt.annotate(\"%5d\"%row[\"NID\"],(row[\"NX\"],row[\"NY\"]))\n",
    "for i,row in ACOHESION.iterrows():\n",
    "    plt.plot([row[\"PX\"], row[\"NX\"]], [row[\"PY\"], row[\"NY\"]],color=\"lightgreen\")\n",
    "for i,row in ACOHESIONP.iterrows():\n",
    "    plt.plot([row[\"PX\"], row[\"NX\"]], [row[\"PY\"], row[\"NY\"]],color=\"darkgreen\")\n",
    "\n",
    "plt.title(\"Single Agent [%d] Swarm Cohesion at STEP:[%d]\" % (id,step))\n",
    "plt.suptitle(\"Showing neighbour links\")\n",
    "plt.grid()\n",
    "plt.gca().set_aspect(\"equal\")\n",
    "plt.xlabel(\"X\")\n",
    "plt.ylabel(\"Y\")\n",
    "plt.tight_layout()\n",
    "plt.show()"
   ]
  },
  {
   "cell_type": "code",
   "execution_count": null,
   "metadata": {},
   "outputs": [],
   "source": [
    "NEIGHBOURCOH.to_csv(\"Agent 75 - Neighbours.csv\")"
   ]
  },
  {
   "cell_type": "markdown",
   "metadata": {},
   "source": [
    "<H3>SWARM ANIMATION</H3>"
   ]
  },
  {
   "cell_type": "code",
   "execution_count": null,
   "metadata": {},
   "outputs": [],
   "source": [
    "%matplotlib qt\n",
    "from matplotlib import animation\n",
    "from matplotlib.animation import FuncAnimation\n",
    "\n",
    "loop = S.STEP.max()\n",
    "\n",
    "fig = plt.figure()\n",
    "plt.xlim(-15,15)\n",
    "plt.ylim(-15,15)\n",
    "plt.grid()\n",
    "plt.gca().set_aspect(\"equal\")\n",
    "PLOT=S[[\"STEP\",\"ID\",\"X\",\"Y\"]].query(\"STEP==%d\" % 1)\n",
    "COHESION=C[[\"STEP\",\"PX\",\"PY\",\"NX\",\"NY\",]].query(\"STEP==%d\" % 1)\n",
    "COHESIONP=C[[\"STEP\",\"PX\",\"PY\",\"NX\",\"NY\",\"PPERIM\",\"NPERIM\"]].query(\"PPERIM==True and NPERIM==True and STEP==%d\" % 1)\n",
    "scat = plt.scatter(PLOT[\"X\"],PLOT[\"Y\"],s=10,color=\"green\")\n",
    "plt.title('Time (s): 1')\n",
    "\n",
    "def animate(i):\n",
    "    PLOT=S[[\"STEP\",\"ID\",\"X\",\"Y\"]].query(\"STEP==%d\" % i)\n",
    "    scat.set_offsets(np.c_[PLOT[\"X\"],PLOT[\"Y\"]])\n",
    "    plt.title('Time (s): %d or %d' % (i+1,loop))\n",
    "\n",
    "anim = FuncAnimation(fig, animate, interval=10, frames=loop, repeat=True)\n",
    "plt.draw() \n",
    "\n"
   ]
  },
  {
   "cell_type": "code",
   "execution_count": null,
   "metadata": {},
   "outputs": [],
   "source": []
  }
 ],
 "metadata": {
  "kernelspec": {
   "display_name": "Python 3",
   "language": "python",
   "name": "python3"
  },
  "language_info": {
   "codemirror_mode": {
    "name": "ipython",
    "version": 3
   },
   "file_extension": ".py",
   "mimetype": "text/x-python",
   "name": "python",
   "nbconvert_exporter": "python",
   "pygments_lexer": "ipython3",
   "version": "3.8.5-final"
  }
 },
 "nbformat": 4,
 "nbformat_minor": 2
}