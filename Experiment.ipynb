{
 "cells": [
  {
   "cell_type": "markdown",
   "metadata": {},
   "source": [
    "<H1>DRAW SWARM ANALYSIS</H1>"
   ]
  },
  {
   "cell_type": "code",
   "execution_count": 1,
   "metadata": {},
   "outputs": [],
   "source": [
    "import pandas as pd\n",
    "import numpy as np\n",
    "import json\n",
    "from mpl_toolkits.mplot3d import Axes3D\n",
    "from matplotlib import cm\n",
    "from pandas import DataFrame, read_csv\n",
    "import matplotlib.pyplot as plt\n",
    "pd.set_option('display.max_columns', 500)\n",
    "pd.set_option('display.width', 120)"
   ]
  },
  {
   "cell_type": "markdown",
   "metadata": {},
   "source": [
    "<h2>LOAD DATA</h2>"
   ]
  },
  {
   "cell_type": "code",
   "execution_count": 3,
   "metadata": {},
   "outputs": [],
   "source": [
    "with open('./data/json/dk_both.json') as json_file:\n",
    "    data = json.load(json_file)\n",
    "jsonpr = data['params']['pr']\n",
    "jsonpkr = data['params']['pkr']\n",
    "jsonpc = data['params']['pkc']\n",
    "jsonkg = data['params']['kg']\n",
    "jsonrb = data['params']['rb']\n",
    "jsoncb = data['params']['cb']\n",
    "jsonkr = data['params']['kr']\n",
    "jsonkc = data['params']['kc']\n",
    "jsonkd = data['params']['kd']\n",
    "jsonko = data['params']['ko']\n",
    "jsonob = data['params']['ob']\n",
    "jsonspeed = data['params']['speed']\n",
    "S=pd.read_csv('./data/csv/exp.p.csv')\n",
    "C=pd.read_csv('./data/csv/exp.c.csv')\n",
    "R=pd.read_csv('./data/csv/exp.r.csv')"
   ]
  },
  {
   "cell_type": "markdown",
   "metadata": {},
   "source": [
    "<h2>EXTRACT STEP</h2>\n",
    "Set <code>step</code> for position in simulation<br>\n",
    "Set <code>id</code> for individual agent of interest."
   ]
  },
  {
   "cell_type": "code",
   "execution_count": 4,
   "metadata": {},
   "outputs": [],
   "source": [
    "step=1000\n",
    "id=1\n",
    "#############\n",
    "# SWARM DATA\n",
    "#############\n",
    "AGENTS=S[[\"STEP\",\"ID\",\"X\",\"Y\",\"PERIM\"]].query(\"STEP==%d\" % step)\n",
    "PAGENTS=AGENTS.query(\"PERIM == True\")\n",
    "NAGENTS=AGENTS.query(\"PERIM == False\")\n",
    "COHESION=C[[\"STEP\",\"PID\",\"PX\",\"PY\",\"NID\",\"NX\",\"NY\",\"PPERIM\",\"NPERIM\"]].query(\"STEP==%d\" % step)\n",
    "COHESIONP=COHESION[[\"STEP\",\"PID\",\"PX\",\"PY\",\"NID\",\"NX\",\"NY\",\"PPERIM\",\"NPERIM\"]].query(\"PPERIM==True and NPERIM==True\")\n",
    "REPULSION=R[[\"STEP\",\"PID\",\"PX\",\"PY\",\"NID\",\"NX\",\"NY\",]].query(\"STEP==%d\" % step)\n",
    "#############\n",
    "# INDIVIDUAL AGENT DATA\n",
    "#############\n",
    "AGENT=AGENTS.query(\"ID==%d\" % id)\n",
    "ACOHESION=COHESION.query(\"PID==%d\" % id)\n",
    "ACOHESIONP=ACOHESION.query(\"PPERIM==True and NPERIM==True\")\n",
    "AREPULSION=REPULSION.query(\"PID==%d\" % id)\n",
    "# NEIGHBOURS LINK DATA\n",
    "NEIGHBOURS=ACOHESION[\"NID\"]\n",
    "# NEIGHBOUR LINKS FOR STEP EXCLUDING THE TARGET AGENT \n",
    "STEPCOH=COHESION.query(\"STEP==%d and PID!=%d and NID!=%d\" % (step,id,id))\n",
    "# FILTER NEIGHBOUR STARTING POINTS USING A LIST\n",
    "STARTCOH=STEPCOH[STEPCOH['PID'].isin(NEIGHBOURS)]\n",
    "# FILTER NEIGHBOUR END POINTS USING A LIST\n",
    "NEIGHBOURCOH=STARTCOH[STARTCOH['NID'].isin(NEIGHBOURS)]"
   ]
  },
  {
   "cell_type": "markdown",
   "metadata": {},
   "source": [
    "<h2>SWARM GRAPH</h2><br>\n",
    "FULL SWARM GRAPH"
   ]
  },
  {
   "cell_type": "code",
   "execution_count": 5,
   "metadata": {},
   "outputs": [],
   "source": [
    "%matplotlib qt\n",
    "plt.scatter(NAGENTS[\"X\"],NAGENTS[\"Y\"],s=20,color=\"black\",zorder=2)\n",
    "plt.scatter(PAGENTS[\"X\"],PAGENTS[\"Y\"],s=20,color=\"red\",zorder=2)\n",
    "for i,row in COHESION.iterrows():\n",
    "    plt.annotate(\"%5d\"%row[\"PID\"],(row[\"PX\"],row[\"PY\"]), fontsize=8)\n",
    "for i,row in COHESION.iterrows():\n",
    "    plt.plot([row[\"PX\"], row[\"NX\"]], [row[\"PY\"], row[\"NY\"]],color=\"grey\",zorder=1)\n",
    "for i,row in COHESIONP.iterrows():\n",
    "    plt.plot([row[\"PX\"], row[\"NX\"]], [row[\"PY\"], row[\"NY\"]],color=\"red\",zorder=1)\n",
    "plt.title('[rb=%s cb=%s kr=%s kc=%s kd=%s ko=%s ob=%s speed=%s]\\n[pr=%s pc=%s pkr=%s kg=%s]\\nSwarm at STEP:[%s]'%(jsonrb,jsoncb,jsonkr,jsonkc,jsonkd,jsonko,jsonob,jsonspeed,jsonpr,jsonpc,jsonpkr,jsonkg,step))\n",
    "#plt.title(\"Swarm at STEP:[%d]\" % step)\n",
    "plt.grid()\n",
    "plt.gca().set_aspect(\"equal\")\n",
    "plt.xlabel(\"X\")\n",
    "plt.ylabel(\"Y\")\n",
    "plt.tight_layout()\n",
    "plt.show()"
   ]
  },
  {
   "cell_type": "markdown",
   "metadata": {},
   "source": [
    "REPULSION GRAPH"
   ]
  },
  {
   "cell_type": "code",
   "execution_count": null,
   "metadata": {},
   "outputs": [],
   "source": [
    "%matplotlib qt\n",
    "for i,row in REPULSION.iterrows():\n",
    "    plt.plot([row[\"PX\"], row[\"NX\"]], [row[\"PY\"], row[\"NY\"]],\"r-\")\n",
    "plt.scatter(AGENTS[\"X\"],AGENTS[\"Y\"],s=100)\n",
    "plt.title(\"Swarm Repulsion at STEP:[%d]\" % step)\n",
    "plt.grid()\n",
    "plt.gca().set_aspect(\"equal\")\n",
    "plt.xlabel(\"X\")\n",
    "plt.ylabel(\"Y\")\n",
    "plt.tight_layout()"
   ]
  },
  {
   "cell_type": "markdown",
   "metadata": {},
   "source": [
    "<H3>INDIVIDUAL AGENT GRAPHS</H3><br>\n",
    "AGENT AND NEIGHBOURS"
   ]
  },
  {
   "cell_type": "code",
   "execution_count": null,
   "metadata": {},
   "outputs": [],
   "source": [
    "%matplotlib qt\n",
    "plt.scatter(AGENT[\"X\"],AGENT[\"Y\"],s=100,color=\"green\")\n",
    "plt.scatter(ACOHESION[\"NX\"],ACOHESION[\"NY\"],s=100,color=\"green\")\n",
    "for i,row in ACOHESION.iterrows():\n",
    "    plt.annotate(\"%5d\"%row[\"PID\"],(row[\"PX\"],row[\"PY\"]))\n",
    "for i,row in ACOHESION.iterrows():\n",
    "    plt.annotate(\"%5d\"%row[\"NID\"],(row[\"NX\"],row[\"NY\"]))\n",
    "for i,row in ACOHESION.iterrows():\n",
    "    plt.plot([row[\"PX\"], row[\"NX\"]], [row[\"PY\"], row[\"NY\"]],color=\"lightgreen\")\n",
    "for i,row in ACOHESIONP.iterrows():\n",
    "    plt.plot([row[\"PX\"], row[\"NX\"]], [row[\"PY\"], row[\"NY\"]],color=\"darkgreen\")\n",
    "\n",
    "plt.title(\"Single Agent [%d] Swarm Cohesion at STEP:[%d]\" % (id,step))\n",
    "plt.grid()\n",
    "plt.gca().set_aspect(\"equal\")\n",
    "plt.xlabel(\"X\")\n",
    "plt.ylabel(\"Y\")\n",
    "plt.tight_layout()\n",
    "plt.show()"
   ]
  },
  {
   "cell_type": "markdown",
   "metadata": {},
   "source": [
    "AGENT AND NEIGHBOURS WITH NEIGHBOUR LINKS SHOWN"
   ]
  },
  {
   "cell_type": "code",
   "execution_count": null,
   "metadata": {},
   "outputs": [],
   "source": [
    "%matplotlib qt\n",
    "plt.scatter(AGENT[\"X\"],AGENT[\"Y\"],s=100,color=\"green\")\n",
    "plt.scatter(ACOHESION[\"NX\"],ACOHESION[\"NY\"],s=100,color=\"green\")\n",
    "for i,row in NEIGHBOURCOH.iterrows():\n",
    "    plt.plot([row[\"PX\"], row[\"NX\"]], [row[\"PY\"], row[\"NY\"]],color=\"black\")\n",
    "for i,row in ACOHESION.iterrows():\n",
    "    plt.annotate(\"%5d\"%row[\"PID\"],(row[\"PX\"],row[\"PY\"]))\n",
    "for i,row in ACOHESION.iterrows():\n",
    "    plt.annotate(\"%5d\"%row[\"NID\"],(row[\"NX\"],row[\"NY\"]))\n",
    "for i,row in ACOHESION.iterrows():\n",
    "    plt.plot([row[\"PX\"], row[\"NX\"]], [row[\"PY\"], row[\"NY\"]],color=\"lightgreen\")\n",
    "for i,row in ACOHESIONP.iterrows():\n",
    "    plt.plot([row[\"PX\"], row[\"NX\"]], [row[\"PY\"], row[\"NY\"]],color=\"darkgreen\")\n",
    "\n",
    "plt.title(\"Single Agent [%d] Swarm Cohesion at STEP:[%d]\" % (id,step))\n",
    "plt.suptitle(\"Showing neighbour links\")\n",
    "plt.grid()\n",
    "plt.gca().set_aspect(\"equal\")\n",
    "plt.xlabel(\"X\")\n",
    "plt.ylabel(\"Y\")\n",
    "plt.tight_layout()\n",
    "plt.show()"
   ]
  },
  {
   "source": [
    "<H3>FULL SWARM GRAPHS</H3>"
   ],
   "cell_type": "markdown",
   "metadata": {}
  },
  {
   "source": [
    "<H3>MAGNITUDE ANALYSIS</H3>"
   ],
   "cell_type": "markdown",
   "metadata": {}
  },
  {
   "cell_type": "code",
   "execution_count": null,
   "metadata": {},
   "outputs": [],
   "source": []
  },
  {
   "source": [
    "<H3>DISTANCE ANALYSIS</H3>"
   ],
   "cell_type": "markdown",
   "metadata": {}
  },
  {
   "cell_type": "code",
   "execution_count": null,
   "metadata": {},
   "outputs": [],
   "source": []
  },
  {
   "cell_type": "markdown",
   "metadata": {},
   "source": [
    "<H3>SWARM ANIMATION</H3>"
   ]
  },
  {
   "cell_type": "code",
   "execution_count": null,
   "metadata": {},
   "outputs": [],
   "source": [
    "%matplotlib qt\n",
    "from matplotlib import animation\n",
    "from matplotlib.animation import FuncAnimation\n",
    "\n",
    "loop = S.STEP.max()\n",
    "# GET GRAPH DISPLAY LIMITS SO IT FITS NICELY\n",
    "xLimMin = S.X.min() \n",
    "xLimMax = S.X.max()\n",
    "yLimMin = S.Y.min()\n",
    "yLimMax = S.Y.max()\n",
    "\n",
    "fig = plt.figure()\n",
    "plt.xlim(xLimMin,xLimMax)\n",
    "plt.ylim(yLimMin,yLimMax)\n",
    "plt.grid()\n",
    "plt.gca().set_aspect(\"equal\")\n",
    "PLOT=S[[\"STEP\",\"ID\",\"X\",\"Y\"]].query(\"STEP==%d\" % 1)\n",
    "COHESION=C[[\"STEP\",\"PX\",\"PY\",\"NX\",\"NY\",]].query(\"STEP==%d\" % 1)\n",
    "COHESIONP=C[[\"STEP\",\"PX\",\"PY\",\"NX\",\"NY\",\"PPERIM\",\"NPERIM\"]].query(\"PPERIM==True and NPERIM==True and STEP==%d\" % 1)\n",
    "scat = plt.scatter(PLOT[\"X\"],PLOT[\"Y\"],s=10,color=\"green\")\n",
    "plt.title('[rb=%s cb=%s kr=%s kc=%s kd=%s ko=%s ob=%s speed=%s]\\n[pr=%s pc=%s pkr=%s kg=%s]\\nTime (s): 1'%(jsonrb,jsoncb,jsonkr,jsonkc,jsonkd,jsonko,jsonob,jsonspeed,jsonpr,jsonpc,jsonpkr,jsonkg))\n",
    "\n",
    "def animate(i):\n",
    "    PLOT=S[[\"STEP\",\"ID\",\"X\",\"Y\"]].query(\"STEP==%d\" % i)\n",
    "    scat.set_offsets(np.c_[PLOT[\"X\"],PLOT[\"Y\"]])\n",
    "    plt.title('[rb=%s cb=%s kr=%s kc=%s kd=%s ko=%s ob=%s speed=%s]\\n[pr=%s pc=%s pkr=%s kg=%s]\\nTime (s): %d or %d' % (jsonrb,jsoncb,jsonkr,jsonkc,jsonkd,jsonko,jsonob,jsonspeed,jsonpr,jsonpc,jsonpkr,jsonkg,i+1,loop))\n",
    "\n",
    "anim = FuncAnimation(fig, animate, interval=10, frames=loop, repeat=True)\n",
    "plt.draw() \n",
    "\n"
   ]
  },
  {
   "cell_type": "code",
   "execution_count": null,
   "metadata": {},
   "outputs": [],
   "source": []
  }
 ],
 "metadata": {
  "kernelspec": {
   "name": "python385jvsc74a57bd0058cd4d169c4921e4d7ed593a865c6696f20d63934827a5ea460cf923500fd23",
   "display_name": "Python 3.8.5 64-bit ('base': conda)"
  },
  "language_info": {
   "codemirror_mode": {
    "name": "ipython",
    "version": 3
   },
   "file_extension": ".py",
   "mimetype": "text/x-python",
   "name": "python",
   "nbconvert_exporter": "python",
   "pygments_lexer": "ipython3",
   "version": "3.8.5"
  }
 },
 "nbformat": 4,
 "nbformat_minor": 2
}