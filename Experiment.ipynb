{
 "metadata": {
  "language_info": {
   "codemirror_mode": {
    "name": "ipython",
    "version": 3
   },
   "file_extension": ".py",
   "mimetype": "text/x-python",
   "name": "python",
   "nbconvert_exporter": "python",
   "pygments_lexer": "ipython3",
   "version": "3.8.5-final"
  },
  "orig_nbformat": 2,
  "kernelspec": {
   "name": "python3",
   "display_name": "Python 3.8.5 64-bit (conda)",
   "metadata": {
    "interpreter": {
     "hash": "058cd4d169c4921e4d7ed593a865c6696f20d63934827a5ea460cf923500fd23"
    }
   }
  }
 },
 "nbformat": 4,
 "nbformat_minor": 2,
 "cells": [
  {
   "source": [
    "<H1>DRAW SWARM AT STEP X</H1>"
   ],
   "cell_type": "markdown",
   "metadata": {}
  },
  {
   "cell_type": "code",
   "execution_count": 2,
   "metadata": {},
   "outputs": [],
   "source": [
    "import pandas as pd\n",
    "import numpy as np\n",
    "from mpl_toolkits.mplot3d import Axes3D\n",
    "from matplotlib import cm\n",
    "from pandas import DataFrame, read_csv\n",
    "import matplotlib.pyplot as plt\n",
    "pd.set_option('display.max_columns', 500)\n",
    "pd.set_option('display.width', 120)"
   ]
  },
  {
   "source": [
    "<h2>LOAD DATA</h2>"
   ],
   "cell_type": "markdown",
   "metadata": {}
  },
  {
   "cell_type": "code",
   "execution_count": 3,
   "metadata": {},
   "outputs": [],
   "source": [
    "S=pd.read_csv('data/csv/exp.p.paper.csv')\n",
    "C=pd.read_csv('data/csv/exp.c.paper.csv')\n",
    "R=pd.read_csv('data/csv/exp.r.paper.csv')"
   ]
  },
  {
   "source": [
    "<h2>EXTRACT STEP</h2>"
   ],
   "cell_type": "markdown",
   "metadata": {}
  },
  {
   "cell_type": "code",
   "execution_count": 24,
   "metadata": {},
   "outputs": [],
   "source": [
    "step=50\n",
    "AGENTS=S[[\"STEP\",\"ID\",\"X\",\"Y\"]].query(\"STEP==%d\" % step)\n",
    "COHESION=C[[\"STEP\",\"PX\",\"PY\",\"NX\",\"NY\",]].query(\"STEP==%d\" % step)\n",
    "COHESIONP=C[[\"STEP\",\"PX\",\"PY\",\"NX\",\"NY\",\"PPERIM\",\"NPERIM\"]].query(\"PPERIM==True and NPERIM==True and STEP==%d\" % step)\n",
    "REPULSION=R[[\"STEP\",\"PX\",\"PY\",\"NX\",\"NY\",]].query(\"STEP==%d\" % step)"
   ]
  },
  {
   "source": [
    "<h2>SWARM GRAPH</h2>"
   ],
   "cell_type": "markdown",
   "metadata": {}
  },
  {
   "cell_type": "code",
   "execution_count": 28,
   "metadata": {},
   "outputs": [
    {
     "output_type": "execute_result",
     "data": {
      "text/plain": [
       "      STEP         PX         PY         NX         NY\n",
       "9432    50   3.847415 -19.867042   3.847415 -19.867042\n",
       "9433    50  10.201123  17.849887  10.201123  17.849887\n",
       "9434    50  14.930191  -3.387845  14.930191  -3.387845\n",
       "9435    50  14.930191  -3.387845  14.930191  -3.387845\n",
       "9436    50  14.930191  -3.387845  14.930191  -3.387845\n",
       "...    ...        ...        ...        ...        ...\n",
       "9629    50  11.498113  -5.430029  11.498113  -5.430029\n",
       "9630    50  11.498113  -5.430029  11.498113  -5.430029\n",
       "9631    50 -16.559201  -5.115976 -16.559201  -5.115976\n",
       "9632    50  10.867618   3.270572  10.867618   3.270572\n",
       "9633    50  10.867618   3.270572  10.867618   3.270572\n",
       "\n",
       "[202 rows x 5 columns]"
      ],
      "text/html": "<div>\n<style scoped>\n    .dataframe tbody tr th:only-of-type {\n        vertical-align: middle;\n    }\n\n    .dataframe tbody tr th {\n        vertical-align: top;\n    }\n\n    .dataframe thead th {\n        text-align: right;\n    }\n</style>\n<table border=\"1\" class=\"dataframe\">\n  <thead>\n    <tr style=\"text-align: right;\">\n      <th></th>\n      <th>STEP</th>\n      <th>PX</th>\n      <th>PY</th>\n      <th>NX</th>\n      <th>NY</th>\n    </tr>\n  </thead>\n  <tbody>\n    <tr>\n      <th>9432</th>\n      <td>50</td>\n      <td>3.847415</td>\n      <td>-19.867042</td>\n      <td>3.847415</td>\n      <td>-19.867042</td>\n    </tr>\n    <tr>\n      <th>9433</th>\n      <td>50</td>\n      <td>10.201123</td>\n      <td>17.849887</td>\n      <td>10.201123</td>\n      <td>17.849887</td>\n    </tr>\n    <tr>\n      <th>9434</th>\n      <td>50</td>\n      <td>14.930191</td>\n      <td>-3.387845</td>\n      <td>14.930191</td>\n      <td>-3.387845</td>\n    </tr>\n    <tr>\n      <th>9435</th>\n      <td>50</td>\n      <td>14.930191</td>\n      <td>-3.387845</td>\n      <td>14.930191</td>\n      <td>-3.387845</td>\n    </tr>\n    <tr>\n      <th>9436</th>\n      <td>50</td>\n      <td>14.930191</td>\n      <td>-3.387845</td>\n      <td>14.930191</td>\n      <td>-3.387845</td>\n    </tr>\n    <tr>\n      <th>...</th>\n      <td>...</td>\n      <td>...</td>\n      <td>...</td>\n      <td>...</td>\n      <td>...</td>\n    </tr>\n    <tr>\n      <th>9629</th>\n      <td>50</td>\n      <td>11.498113</td>\n      <td>-5.430029</td>\n      <td>11.498113</td>\n      <td>-5.430029</td>\n    </tr>\n    <tr>\n      <th>9630</th>\n      <td>50</td>\n      <td>11.498113</td>\n      <td>-5.430029</td>\n      <td>11.498113</td>\n      <td>-5.430029</td>\n    </tr>\n    <tr>\n      <th>9631</th>\n      <td>50</td>\n      <td>-16.559201</td>\n      <td>-5.115976</td>\n      <td>-16.559201</td>\n      <td>-5.115976</td>\n    </tr>\n    <tr>\n      <th>9632</th>\n      <td>50</td>\n      <td>10.867618</td>\n      <td>3.270572</td>\n      <td>10.867618</td>\n      <td>3.270572</td>\n    </tr>\n    <tr>\n      <th>9633</th>\n      <td>50</td>\n      <td>10.867618</td>\n      <td>3.270572</td>\n      <td>10.867618</td>\n      <td>3.270572</td>\n    </tr>\n  </tbody>\n</table>\n<p>202 rows × 5 columns</p>\n</div>"
     },
     "metadata": {},
     "execution_count": 28
    }
   ],
   "source": [
    "REPULSION"
   ]
  },
  {
   "cell_type": "code",
   "execution_count": 25,
   "metadata": {},
   "outputs": [],
   "source": [
    "%matplotlib qt\n",
    "plt.scatter(AGENTS[\"X\"],AGENTS[\"Y\"],s=100,color=\"green\")\n",
    "for i,row in COHESION.iterrows():\n",
    "    plt.plot([row[\"PX\"], row[\"NX\"]], [row[\"PY\"], row[\"NY\"]],color=\"lightgreen\")\n",
    "for i,row in COHESIONP.iterrows():\n",
    "    plt.plot([row[\"PX\"], row[\"NX\"]], [row[\"PY\"], row[\"NY\"]],color=\"darkgreen\")\n",
    "\n",
    "plt.title(\"Swarm Cohesion at STEP:[%d]\" % step)\n",
    "plt.grid()\n",
    "plt.gca().set_aspect(\"equal\")\n",
    "plt.xlabel(\"X\")\n",
    "plt.ylabel(\"Y\")\n",
    "plt.tight_layout()\n",
    "plt.show()"
   ]
  },
  {
   "cell_type": "code",
   "execution_count": 26,
   "metadata": {},
   "outputs": [],
   "source": [
    "%matplotlib qt\n",
    "for i,row in REPULSION.iterrows():\n",
    "    plt.plot([row[\"PX\"], row[\"NX\"]], [row[\"PY\"], row[\"NY\"]],\"r-\")\n",
    "plt.scatter(AGENTS[\"X\"],AGENTS[\"Y\"],s=100)\n",
    "plt.title(\"Swarm Repulsion at STEP:[%d]\" % step)\n",
    "plt.grid()\n",
    "plt.gca().set_aspect(\"equal\")\n",
    "plt.xlabel(\"X\")\n",
    "plt.ylabel(\"Y\")\n",
    "plt.tight_layout()\n",
    "plt.show()"
   ]
  },
  {
   "cell_type": "code",
   "execution_count": null,
   "metadata": {},
   "outputs": [],
   "source": []
  }
 ]
}