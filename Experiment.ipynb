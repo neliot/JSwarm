{
 "metadata": {
  "language_info": {
   "codemirror_mode": {
    "name": "ipython",
    "version": 3
   },
   "file_extension": ".py",
   "mimetype": "text/x-python",
   "name": "python",
   "nbconvert_exporter": "python",
   "pygments_lexer": "ipython3",
   "version": "3.8.5-final"
  },
  "orig_nbformat": 2,
  "kernelspec": {
   "name": "python3",
   "display_name": "Python 3.8.5 64-bit (conda)",
   "metadata": {
    "interpreter": {
     "hash": "058cd4d169c4921e4d7ed593a865c6696f20d63934827a5ea460cf923500fd23"
    }
   }
  }
 },
 "nbformat": 4,
 "nbformat_minor": 2,
 "cells": [
  {
   "source": [
    "<H1>DRAW SWARM AT STEP X</H1>"
   ],
   "cell_type": "markdown",
   "metadata": {}
  },
  {
   "cell_type": "code",
   "execution_count": 2,
   "metadata": {},
   "outputs": [],
   "source": [
    "import pandas as pd\n",
    "import numpy as np\n",
    "from mpl_toolkits.mplot3d import Axes3D\n",
    "from matplotlib import cm\n",
    "from pandas import DataFrame, read_csv\n",
    "import matplotlib.pyplot as plt\n",
    "pd.set_option('display.max_columns', 500)\n",
    "pd.set_option('display.width', 120)"
   ]
  },
  {
   "source": [
    "<h2>LOAD DATA</h2>"
   ],
   "cell_type": "markdown",
   "metadata": {}
  },
  {
   "cell_type": "code",
   "execution_count": 3,
   "metadata": {},
   "outputs": [],
   "source": [
    "S=pd.read_csv('data/csv/exp.p.csv')\n",
    "C=pd.read_csv('data/csv/exp.c.csv')\n",
    "R=pd.read_csv('data/csv/exp.r.csv')"
   ]
  },
  {
   "source": [
    "<h2>EXTRACT STEP</h2>"
   ],
   "cell_type": "markdown",
   "metadata": {}
  },
  {
   "cell_type": "code",
   "execution_count": 4,
   "metadata": {},
   "outputs": [],
   "source": [
    "step=346\n",
    "AGENTS=S[[\"STEP\",\"ID\",\"X\",\"Y\"]].query(\"STEP==%d\" % step)\n",
    "COHESION=C[[\"STEP\",\"PX\",\"PY\",\"NX\",\"NY\",]].query(\"STEP==%d\" % step)\n",
    "COHESIONP=C[[\"STEP\",\"PX\",\"PY\",\"NX\",\"NY\",\"PPERIM\",\"NPERIM\"]].query(\"PPERIM==True and NPERIM==True and STEP==%d\" % step)\n",
    "REPULSION=R[[\"STEP\",\"PX\",\"PY\",\"NX\",\"NY\",]].query(\"STEP==%d\" % step)"
   ]
  },
  {
   "source": [
    "<h2>SWARM GRAPH</h2>"
   ],
   "cell_type": "markdown",
   "metadata": {}
  },
  {
   "cell_type": "code",
   "execution_count": 7,
   "metadata": {},
   "outputs": [],
   "source": [
    "%matplotlib qt\n",
    "plt.scatter(AGENTS[\"X\"],AGENTS[\"Y\"],s=100,color=\"green\")\n",
    "for i,row in COHESION.iterrows():\n",
    "    plt.plot([row[\"PX\"], row[\"NX\"]], [row[\"PY\"], row[\"NY\"]],color=\"lightgreen\")\n",
    "for i,row in COHESIONP.iterrows():\n",
    "    plt.plot([row[\"PX\"], row[\"NX\"]], [row[\"PY\"], row[\"NY\"]],color=\"darkgreen\")\n",
    "\n",
    "plt.title(\"PYTHON Swarm Cohesion at STEP:[%d]\" % step)\n",
    "plt.grid()\n",
    "plt.gca().set_aspect(\"equal\")\n",
    "plt.xlabel(\"X\")\n",
    "plt.ylabel(\"Y\")\n",
    "plt.tight_layout()\n",
    "plt.show()"
   ]
  },
  {
   "cell_type": "code",
   "execution_count": 6,
   "metadata": {},
   "outputs": [],
   "source": [
    "%matplotlib qt\n",
    "for i,row in REPULSION.iterrows():\n",
    "    plt.plot([row[\"PX\"], row[\"NX\"]], [row[\"PY\"], row[\"NY\"]],\"r-\")\n",
    "plt.scatter(AGENTS[\"X\"],AGENTS[\"Y\"],s=100)\n",
    "plt.title(\"Swarm Repulsion at STEP:[%d]\" % step)\n",
    "plt.grid()\n",
    "plt.gca().set_aspect(\"equal\")\n",
    "plt.xlabel(\"X\")\n",
    "plt.ylabel(\"Y\")\n",
    "plt.tight_layout()\n",
    "plt.show()"
   ]
  },
  {
   "cell_type": "code",
   "execution_count": null,
   "metadata": {},
   "outputs": [],
   "source": []
  }
 ]
}