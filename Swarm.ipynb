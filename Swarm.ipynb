{
 "cells": [
  {
   "cell_type": "markdown",
   "metadata": {},
   "source": [
    "<H1>Basic Perimeter Compression Analysis</H1>\n",
    "Table shows parameters for the graphs below. Dictionary selects correct experiment array.<p>\n",
    "<style type=\"text/css\">\n",
    "\ttable.tableizer-table {\n",
    "\t\tfont-size: 12px;\n",
    "\t\tborder: 1px solid #CCC; \n",
    "\t\tfont-family: Arial, Helvetica, sans-serif;\n",
    "\t} \n",
    "\t.tableizer-table td {\n",
    "\t\tpadding: 4px;\n",
    "\t\tmargin: 3px;\n",
    "\t\tborder: 1px solid #CCC;\n",
    "\t}\n",
    "\t.tableizer-table th {\n",
    "\t\tbackground-color: #104E8B; \n",
    "\t\tcolor: #FFF;\n",
    "\t\tfont-weight: bold;\n",
    "\t}\n",
    "</style>\n",
    "<table class=\"tableizer-table\">\n",
    "<thead><tr class=\"tableizer-firstrow\"><th>Pr/Pc</th><th>1</th><th>10</th><th>20</th><th>30</th><th>40</th><th>50</th><th>60</th><th>70</th><th>80</th><th>90</th><th>100</th></tr></thead><tbody>\n",
    " <tr><td>0.1</td><td>0,0</td><td>0,1</td><td>0,2</td><td>0,3</td><td>0,4</td><td>0,5</td><td>0,6</td><td>0,7</td><td>0,8</td><td>0,9</td><td>0,10</td></tr>\n",
    " <tr><td>0.2</td><td>1,0</td><td>1,1</td><td>1,2</td><td>1,3</td><td>1,4</td><td>1,5</td><td>1,6</td><td>1,7</td><td>1,8</td><td>1,9</td><td>1,10</td></tr>\n",
    " <tr><td>0.3</td><td>2,0</td><td>2,1</td><td>2,2</td><td>2,3</td><td>2,4</td><td>2,5</td><td>2,6</td><td>2,6</td><td>2,8</td><td>2,9</td><td>2,10</td></tr>\n",
    " <tr><td>0.4</td><td>3,0</td><td>3,1</td><td>3,2</td><td>3,3</td><td>3,4</td><td>3,5</td><td>3,6</td><td>3,7</td><td>3,8</td><td>3,9</td><td>3,10</td></tr>\n",
    " <tr><td>0.5</td><td>4,0</td><td>4,1</td><td>4,2</td><td>4,3</td><td>4,4</td><td>4,5</td><td>4,6</td><td>4,7</td><td>4,8</td><td>4,9</td><td>4,10</td></tr>\n",
    " <tr><td>0.6</td><td>5,0</td><td>5,1</td><td>5,2</td><td>5,3</td><td>5,4</td><td>5,5</td><td>5,6</td><td>5,7</td><td>5,8</td><td>5,9</td><td>5,10</td></tr>\n",
    " <tr><td>0.7</td><td>6,0</td><td>6,1</td><td>6,2</td><td>6,3</td><td>6,4</td><td>6,5</td><td>6,6</td><td>6,7</td><td>6,8</td><td>6,9</td><td>6,10</td></tr>\n",
    " <tr><td>0.8</td><td>7,0</td><td>7,1</td><td>7,2</td><td>7,3</td><td>7,4</td><td>7,5</td><td>7,6</td><td>7,7</td><td>7,8</td><td>7,9</td><td>7,10</td></tr>\n",
    " <tr><td>0.9</td><td>8,0</td><td>8,1</td><td>8,2</td><td>8,3</td><td>8,4</td><td>8,5</td><td>8,6</td><td>8,7</td><td>8,8</td><td>8,9</td><td>8,10</td></tr>\n",
    "  <tr><td>1.0</td><td>9,0</td><td>9,1</td><td>9,2</td><td>9,3</td><td>9,4</td><td>9,5</td><td>9,6</td><td>9,7</td><td>9,8</td><td>9,9</td><td>9,10</td></tr>\n",
    "</tbody></table>\n",
    "\n",
    "\t\t\t\t\t\t\t\t\n"
   ]
  },
  {
   "source": [
    "import libraries for data analysis and graphing. Setup dictionaries to allow referencing to appropriate experiments more natural."
   ],
   "cell_type": "markdown",
   "metadata": {}
  },
  {
   "cell_type": "code",
   "execution_count": 2,
   "metadata": {},
   "outputs": [],
   "source": [
    "import pandas as pd\n",
    "import numpy as np\n",
    "from mpl_toolkits.mplot3d import Axes3D\n",
    "from matplotlib import cm\n",
    "from pandas import DataFrame, read_csv\n",
    "import matplotlib.pyplot as plt\n",
    "pd.set_option('display.max_columns', 500)\n",
    "pd.set_option('display.width', 120)\n",
    "X = np.linspace(1,9,9)\n",
    "Y = np.linspace(10,100,10)\n",
    "pcdict = {1:0, 10: 1, 20: 2, 30: 3, 40: 4, 50: 5, 60: 6, 70: 7, 80: 8, 90: 9, 100: 10}\n",
    "prdict = {0.1: 0, 0.2: 1, 0.3: 2, 0.4: 3, 0.5: 4, 0.6: 5, 0.7: 6, 0.8: 7, 0.9: 8, 1: 9}\n",
    "pcVals=[1,10,20,30,40,50,60,70,80,90,100]\n",
    "prVals=[0.1,0.2,0.3,0.4,0.5,0.6,0.7,0.8,0.9,1.0]\n"
   ]
  },
  {
   "source": [
    "Load all particle data from simulator into a <code>pandas</code> data frame and store in a <code>2D</code> matrix based on <code>pr</code> and <code>pc</code> from the table above. e.g. <code>pc = 1</code> stored in <code>y/code> axis 0, <code>pr = 0.1</code> stored in <code>x</code> axis <code>0</code>."
   ],
   "cell_type": "markdown",
   "metadata": {}
  },
  {
   "cell_type": "code",
   "execution_count": 26,
   "metadata": {},
   "outputs": [],
   "source": [
    "S=[]\n",
    "C=[]\n",
    "SDATA=[]\n",
    "CDATA=[]\n",
    "for pr in prVals:\n",
    "    for pc in pcVals:\n",
    "        S.append(pd.DataFrame(pd.read_csv('./data/csv/exp-%0.2f-%0.2f.p.csv' % (pr,pc))))\n",
    "        C.append(pd.DataFrame(pd.read_csv('./data/csv/exp-%0.2f-%0.2f.c.csv' % (pr,pc))))\n",
    "    CDATA.append(C)\n",
    "    SDATA.append(S)\n",
    "    S=[]\n",
    "    C=[]\n"
   ]
  },
  {
   "source": [
    "Load individual GAP experiment into its own dataframes."
   ],
   "cell_type": "markdown",
   "metadata": {}
  },
  {
   "cell_type": "code",
   "execution_count": 48,
   "metadata": {},
   "outputs": [],
   "source": [
    "GAPSDATA = pd.DataFrame(pd.read_csv('./data/csv/exp-0.00-0.00.p.csv'))\n",
    "GAPCDATA = pd.DataFrame(pd.read_csv('./data/csv/exp-0.00-0.00.c.csv'))\n"
   ]
  },
  {
   "cell_type": "markdown",
   "metadata": {},
   "source": [
    "<H3>PERIMETER AGENTS</H3>"
   ]
  },
  {
   "source": [
    "Create new <code>2D</code> array to store perimeter data calculate from the main Swarm data for each experiment."
   ],
   "cell_type": "markdown",
   "metadata": {}
  },
  {
   "cell_type": "code",
   "execution_count": 49,
   "metadata": {},
   "outputs": [],
   "source": [
    "PDATA = []\n",
    "P = []\n",
    "for x in np.arange(0,len(SDATA),1) :\n",
    "    for y in np.arange(0,len(SDATA[0]),1) :\n",
    "        P.append(SDATA[x][y][[\"STEP\",\"PERIM\"]].query(\"PERIM == True\").groupby('STEP').count().reset_index())\n",
    "    PDATA.append(P)\n",
    "    P=[]\n"
   ]
  },
  {
   "source": [
    "Create new data frame for the GAP experiment to store perimeter data calculate from the main Swarm data."
   ],
   "cell_type": "markdown",
   "metadata": {}
  },
  {
   "cell_type": "code",
   "execution_count": 50,
   "metadata": {},
   "outputs": [],
   "source": [
    "GAPP = GAPSDATA[[\"STEP\",\"PERIM\"]].query(\"PERIM == True\").groupby('STEP').count().reset_index()"
   ]
  },
  {
   "cell_type": "markdown",
   "metadata": {},
   "source": [
    "<H3>PERIMETER AGENTS</H3>"
   ]
  },
  {
   "cell_type": "code",
   "execution_count": 51,
   "metadata": {},
   "outputs": [],
   "source": [
    "#GRAPH 1.0\n",
    "#NUMBER OF PERIMETER AGENTS\n",
    "%matplotlib qt\n",
    "pr = 1.0 # SET pr to required dataset\n",
    "pckeys = list(pcdict.keys())\n",
    "pcloop = 0\n",
    "for p in PDATA[prdict[pr]]: # Cycle over all the experiments for a specific pr value\n",
    "    plt.plot(p.STEP,p.PERIM,label=(\"pc=%d\" % pckeys[pcloop]))\n",
    "    pcloop += 1 # Move along the pc dictionary\n",
    "plt.plot(GAPP.STEP,GAPP.PERIM,label=(\"GAP (kg=5)\")) # Add in the GAP Experiment results\n",
    "plt.legend()\n",
    "plt.title(\"Perimeter Agents - (pr=%s)\"%pr)\n",
    "plt.xlabel(\"Time Step\")\n",
    "plt.ylabel(\"Count\")\n",
    "plt.show()"
   ]
  },
  {
   "cell_type": "code",
   "execution_count": 75,
   "metadata": {},
   "outputs": [],
   "source": [
    "#GRAPH 1.1\n",
    "%matplotlib qt\n",
    "#set pr and pc for required individual experiment or set gapPlot to True for GAP Graph\n",
    "pr = 1.0\n",
    "pc = 1.0\n",
    "gapPlot = True\n",
    "if gapPlot:\n",
    "    plt.plot(GAPP.STEP,GAPP.PERIM,label=(\"GAP (kg=5)\"))\n",
    "    plt.title(\"Perimeter Agents - GAP (kg=5)\")\n",
    "else:\n",
    "    plt.plot(PDATA[prdict[pr]][pcdict[pc]].STEP,PDATA[prdict[pr]][pcdict[pc]].PERIM)\n",
    "    plt.title(\"Perimeter Agents - (pr=%s,pc=%s)\"% (pr,pc))\n",
    "plt.xlabel(\"Time Step\")\n",
    "plt.ylabel(\"Count\")\n",
    "plt.show()"
   ]
  },
  {
   "cell_type": "markdown",
   "metadata": {},
   "source": [
    "<H3>FULL SWARM AT STEP</H3>"
   ]
  },
  {
   "source": [
    "Snapshot of swarm at specific step. Two datasets are created one is a <code>2D</code> array that maps all the <code>pr/pc</code> experiments. The second set if for a single GAP experiment."
   ],
   "cell_type": "markdown",
   "metadata": {}
  },
  {
   "cell_type": "code",
   "execution_count": 88,
   "metadata": {},
   "outputs": [],
   "source": [
    "#FULL SWARM DATA EXTRACT\n",
    "pr = 1.0\n",
    "pc = 100\n",
    "step = 50\n",
    "AGENTS=SDATA[prdict[pr]][pcdict[pc]][[\"STEP\",\"ID\",\"X\",\"Y\"]].query(\"STEP==%d\" % step)\n",
    "NAGENTS=CDATA[prdict[pr]][pcdict[pc]][[\"STEP\",\"PID\",\"PX\",\"PY\",\"PPERIM\",\"NID\",\"NX\",\"NY\",\"NPERIM\",\"DIST\"]].query(\"STEP==%d\" % step)\n",
    "PAGENTS=NAGENTS.query(\"PPERIM==True and NPERIM==True\")\n",
    "#GAP EXPERIMENT DATA EXTRACT\n",
    "GAPAGENTS=GAPSDATA[[\"STEP\",\"ID\",\"X\",\"Y\"]].query(\"STEP==%d\" % step)\n",
    "GAPNAGENTS=GAPCDATA[[\"STEP\",\"PID\",\"PX\",\"PY\",\"PPERIM\",\"NID\",\"NX\",\"NY\",\"NPERIM\",\"DIST\"]].query(\"STEP==%d\" % step)\n",
    "GAPPAGENTS=GAPNAGENTS.query(\"PPERIM==True and NPERIM==True\")"
   ]
  },
  {
   "cell_type": "code",
   "execution_count": 85,
   "metadata": {},
   "outputs": [],
   "source": [
    "#GRAPH 2.0\n",
    "#FULL SWARM AT STEP FOR pr/pc Experiment\n",
    "%matplotlib qt\n",
    "for i,row in NAGENTS.iterrows():\n",
    "    plt.plot([row[\"PX\"], row[\"NX\"]], [row[\"PY\"], row[\"NY\"]],color=\"lightgreen\")\n",
    "for i,row in PAGENTS.iterrows():\n",
    "    plt.plot([row[\"PX\"], row[\"NX\"]], [row[\"PY\"], row[\"NY\"]],color=\"darkgreen\")\n",
    "plt.scatter(AGENTS[\"X\"],AGENTS[\"Y\"],s=100,marker=\"o\",color=\"darkgreen\")\n",
    "for i,row in NAGENTS.iterrows():\n",
    "    plt.annotate(\"%5d\"%row[\"PID\"],(row[\"PX\"],row[\"PY\"]))\n",
    "plt.title(\"Swarm position at STEP:[%d][pr=%s,pc=%s]\"%(step,pr,pc))\n",
    "plt.grid()\n",
    "plt.gca().set_aspect(\"equal\")\n",
    "plt.xlabel(\"X\")\n",
    "plt.ylabel(\"Y\")\n",
    "plt.tight_layout()\n",
    "plt.show()\n"
   ]
  },
  {
   "cell_type": "code",
   "execution_count": 89,
   "metadata": {},
   "outputs": [],
   "source": [
    "#GAP GRAPH 2.0\n",
    "#FULL SWARM AT STEP FOR GAP Experiment\n",
    "%matplotlib qt\n",
    "for i,row in GAPNAGENTS.iterrows():\n",
    "    plt.plot([row[\"PX\"], row[\"NX\"]], [row[\"PY\"], row[\"NY\"]],color=\"lightgreen\")\n",
    "for i,row in GAPPAGENTS.iterrows():\n",
    "    plt.plot([row[\"PX\"], row[\"NX\"]], [row[\"PY\"], row[\"NY\"]],color=\"darkgreen\")\n",
    "plt.scatter(GAPAGENTS[\"X\"],GAGENTS[\"Y\"],s=100,marker=\"o\",color=\"darkgreen\")\n",
    "for i,row in GAPNAGENTS.iterrows():\n",
    "    plt.annotate(\"%5d\"%row[\"PID\"],(row[\"PX\"],row[\"PY\"]))\n",
    "plt.title(\"Swarm position at STEP:[%d][kg=5]\"%(step))\n",
    "plt.grid()\n",
    "plt.gca().set_aspect(\"equal\")\n",
    "plt.xlabel(\"X\")\n",
    "plt.ylabel(\"Y\")\n",
    "plt.tight_layout()\n",
    "plt.show()"
   ]
  },
  {
   "cell_type": "markdown",
   "metadata": {},
   "source": [
    "<H3>FULL SWARM MOVEMENT</H3>"
   ]
  },
  {
   "source": [
    "Simple \"movement\" graph to show the step positions of the swarm over time. This is to give a perspective of the swwarms overall restructuring. <code>start</code> specifies the initial starting point of the movement. <code>step</code> specifies the increments through the steps to add or remove detail as required."
   ],
   "cell_type": "markdown",
   "metadata": {}
  },
  {
   "cell_type": "code",
   "execution_count": 90,
   "metadata": {},
   "outputs": [],
   "source": [
    "#GRAPH 3.0\n",
    "#FULL SWARM MOVEMENT PLOT\n",
    "%matplotlib qt\n",
    "fig = plt.figure()\n",
    "ax1 = fig.add_subplot(111)\n",
    "start = 1\n",
    "step = 25 # STEPS BETWEEN PLOTS\n",
    "end = SDATA[prdict[pr]][pcdict[pc]].STEP.max()\n",
    "xLimMin = SDATA[prdict[pr]][pcdict[pc]].X.min()\n",
    "xLimMax = SDATA[prdict[pr]][pcdict[pc]].X.max()\n",
    "yLimMin = SDATA[prdict[pr]][pcdict[pc]].Y.min()\n",
    "yLimMax = SDATA[prdict[pr]][pcdict[pc]].Y.max()\n",
    "for x in np.arange(start,end,step) :\n",
    "    state = SDATA[prdict[pr]][pcdict[pc]][SDATA[prdict[pr]][pcdict[pc]][\"STEP\"]==x].reset_index()\n",
    "    ax1.scatter(state[\"X\"],state[\"Y\"], label=\"STEP %d\"%x, s=50)\n",
    "    plt.title(\"Agent positions STEP:[%d,%d:%d][pr=%s,pc=%s]\"%(start,end,step,pr,pc))\n",
    "plt.xlim([xLimMin,xLimMax])\n",
    "plt.ylim([yLimMin,yLimMax])\n",
    "plt.grid()\n",
    "plt.gca().set_aspect(\"equal\")\n",
    "#plt.legend()\n",
    "plt.xlabel(\"X\")\n",
    "plt.ylabel(\"Y\")\n",
    "plt.tight_layout()\n",
    "plt.show()"
   ]
  },
  {
   "cell_type": "code",
   "execution_count": 94,
   "metadata": {},
   "outputs": [],
   "source": [
    "#GRAPH 3.1\n",
    "#FULL SWARM ANIMATION\n",
    "gapPlot = False\n",
    "%matplotlib qt\n",
    "from matplotlib import animation\n",
    "from matplotlib.animation import FuncAnimation\n",
    "\n",
    "pr = 1.0\n",
    "pc = 1.0\n",
    "if gapPlot:\n",
    "    loop = GAPSDATA.STEP.max()\n",
    "    xLimMin = GAPSDATA.X.min()\n",
    "    xLimMax = GAPSDATA.X.max()\n",
    "    yLimMin = GAPSDATA.Y.min()\n",
    "    yLimMax = GAPSDATA.Y.max()\n",
    "else:\n",
    "    loop = SDATA[prdict[pr]][pcdict[pc]].STEP.max()\n",
    "    xLimMin = SDATA[prdict[pr]][pcdict[pc]].X.min()\n",
    "    xLimMax = SDATA[prdict[pr]][pcdict[pc]].X.max()\n",
    "    yLimMin = SDATA[prdict[pr]][pcdict[pc]].Y.min()\n",
    "    yLimMax = SDATA[prdict[pr]][pcdict[pc]].Y.max()\n",
    "\n",
    "fig = plt.figure()\n",
    "plt.xlim(xLimMin,xLimMax)\n",
    "plt.ylim(yLimMin,yLimMax)\n",
    "plt.grid()\n",
    "plt.gca().set_aspect(\"equal\")\n",
    "if gapPlot:\n",
    "    PLOT1=GAPSDATA[[\"STEP\",\"ID\",\"X\",\"Y\",\"PERIM\"]].query(\"STEP==%d and PERIM==True\" % 1)\n",
    "    PLOT2=GAPSDATA[[\"STEP\",\"ID\",\"X\",\"Y\",\"PERIM\"]].query(\"STEP==%d and PERIM==False\" % 1)\n",
    "    plt.title('[kg=5] Step: 1 of %d' % (loop))\n",
    "else:\n",
    "    PLOT1=SDATA[prdict[pr]][pcdict[pc]][[\"STEP\",\"ID\",\"X\",\"Y\",\"PERIM\"]].query(\"STEP==%d and PERIM==True\" % 1)\n",
    "    PLOT2=SDATA[prdict[pr]][pcdict[pc]][[\"STEP\",\"ID\",\"X\",\"Y\",\"PERIM\"]].query(\"STEP==%d and PERIM==False\" % 1)\n",
    "    plt.title('[pr=%s,pc=%s] Step: 1 of %d' % (pr,pc,loop))\n",
    "scat1 = plt.scatter(PLOT1[\"X\"],PLOT1[\"Y\"],s=20,color=\"red\")\n",
    "scat2 = plt.scatter(PLOT2[\"X\"],PLOT2[\"Y\"],s=20,color=\"black\")\n",
    "\n",
    "def animate(i):\n",
    "    if gapPlot:\n",
    "        PLOT1=GAPSDATA[[\"STEP\",\"ID\",\"X\",\"Y\",\"PERIM\"]].query(\"STEP==%d and PERIM==True\" % (i+1))\n",
    "        PLOT2=GAPSDATA[[\"STEP\",\"ID\",\"X\",\"Y\",\"PERIM\"]].query(\"STEP==%d and PERIM==False\" % (i+1))\n",
    "        plt.title('[kg=5] Step: %d of %d' % (i+1,loop))\n",
    "    else:\n",
    "        PLOT1=SDATA[prdict[pr]][pcdict[pc]][[\"STEP\",\"ID\",\"X\",\"Y\",\"PERIM\"]].query(\"STEP==%d and PERIM==True\" % (i+1))\n",
    "        PLOT2=SDATA[prdict[pr]][pcdict[pc]][[\"STEP\",\"ID\",\"X\",\"Y\",\"PERIM\"]].query(\"STEP==%d and PERIM==False\" % (i+1))\n",
    "        plt.title('[pr=%s,pc=%s] Step: %d of %d' % (pr,pc,i+1,loop))\n",
    "    scat1.set_offsets(np.c_[PLOT1[\"X\"],PLOT1[\"Y\"]])\n",
    "    scat2.set_offsets(np.c_[PLOT2[\"X\"],PLOT2[\"Y\"]])\n",
    "\n",
    "anim = FuncAnimation(fig, animate, interval=20, frames=loop, repeat=True)\n",
    "plt.draw()"
   ]
  },
  {
   "cell_type": "markdown",
   "metadata": {},
   "source": [
    "<H3>AGENT MOVEMENTS</H3>"
   ]
  },
  {
   "cell_type": "code",
   "execution_count": 10,
   "metadata": {},
   "outputs": [],
   "source": [
    "#METRIC CALCULATIONS\n",
    "MEANDATA = []\n",
    "MEAN = []\n",
    "for x in np.arange(0,len(SDATA),1) :\n",
    "    for y in np.arange(0,len(SDATA[0]),1) :\n",
    "        MEAN.append(SDATA[x][y][[\"STEP\",\"IMAG\"]].groupby('STEP').mean(0).reset_index())\n",
    "    MEANDATA.append(MEAN)\n",
    "    MEAN=[]\n",
    "#Calculate std of each timestep for all experiments\n",
    "STDDATA = []\n",
    "STD = []\n",
    "for x in np.arange(0,len(SDATA),1) :\n",
    "    for y in np.arange(0,len(SDATA[0]),1) :\n",
    "        STD.append(SDATA[x][y][[\"STEP\",\"IMAG\"]].groupby('STEP').std(0).reset_index())\n",
    "    STDDATA.append(STD)\n",
    "    STD=[]\n",
    "#DISTANCE METRIC\n",
    "MEANDISTDATA = []\n",
    "MEANDIST = []\n",
    "for x in np.arange(0,len(CDATA),1) :\n",
    "    for y in np.arange(0,len(CDATA[0]),1) :\n",
    "        MEANDIST.append(CDATA[x][y][[\"STEP\",\"DIST\"]].groupby('STEP').mean(0).reset_index())\n",
    "    MEANDISTDATA.append(MEANDIST)\n",
    "    MEANDIST=[]\n",
    "#Calculate std of each timestep for all experiments\n",
    "STDDISTDATA = []\n",
    "STDDIST = []\n",
    "for x in np.arange(0,len(CDATA),1) :\n",
    "    for y in np.arange(0,len(CDATA[0]),1) :\n",
    "        STDDIST.append(CDATA[x][y][[\"STEP\",\"DIST\"]].groupby('STEP').std(0).reset_index())\n",
    "    STDDISTDATA.append(STDDIST)\n",
    "    STDDIST=[]\n",
    "\n"
   ]
  },
  {
   "cell_type": "markdown",
   "metadata": {},
   "source": [
    "<H3>SWARM GRAPHS</H3>"
   ]
  },
  {
   "source": [
    "MAGNITUIDE"
   ],
   "cell_type": "markdown",
   "metadata": {}
  },
  {
   "cell_type": "code",
   "execution_count": 11,
   "metadata": {},
   "outputs": [],
   "source": [
    "#GRAPH 4.0\n",
    "#MEAN AGGREGATE MAGNITUDE FOR A SET REPULSION\n",
    "%matplotlib qt\n",
    "#SET pr to required dataset\n",
    "pr = 0.8\n",
    "pckeys = list(pcdict.keys())\n",
    "pcloop = 0\n",
    "for m in MEANDATA[prdict[pr]]:\n",
    "    plt.plot(m.STEP,m.IMAG,label=(\"pc=%s\"%(pckeys[pcloop])))\n",
    "    pcloop += 1\n",
    "plt.title(\"Inter-agent MEAN Aggregated Magnitude (pr=%s)\"%(pr))\n",
    "plt.legend()\n",
    "plt.xlabel(\"Time Step\")\n",
    "plt.ylabel(\"Magnitude\")\n",
    "plt.show()"
   ]
  },
  {
   "cell_type": "code",
   "execution_count": 12,
   "metadata": {},
   "outputs": [],
   "source": [
    "#GRAPH 4.1\n",
    "#STD AGGREGATE MAGNITUDE FOR A SET REPULSION\n",
    "%matplotlib qt\n",
    "#SET pr to required dataset\n",
    "pr = 0.8\n",
    "pckeys = list(pcdict.keys())\n",
    "pcloop = 0\n",
    "for s in STDDATA[prdict[pr]]:\n",
    "    plt.plot(s.STEP,s.IMAG,label=(\"pc=%s\"%(pckeys[pcloop])))\n",
    "    pcloop += 1\n",
    "plt.title(\"Inter-agent STD Aggregated Magnitude (pr=%s)\"%(pr))\n",
    "plt.legend()\n",
    "plt.xlabel(\"Time Step\")\n",
    "plt.ylabel(\"Magnitude\")\n",
    "plt.show()"
   ]
  },
  {
   "cell_type": "code",
   "execution_count": 13,
   "metadata": {},
   "outputs": [],
   "source": [
    "#GRAPH 4.2\n",
    "#MEAN AGGREGATE MAGNITUDE FOR A SET REPULSION AND COHESION\n",
    "%matplotlib qt\n",
    "#SET pr and pc to required dataset. See table above\n",
    "pr=0.8\n",
    "pc=10\n",
    "plt.errorbar(MEANDATA[prdict[pr]][pcdict[pc]].STEP,MEANDATA[prdict[pr]][pcdict[pc]].IMAG,STDDATA[prdict[pr]][pcdict[pc]].IMAG,label='Cohesion magnitude',ecolor='red',color='black')\n",
    "plt.title(\"Inter-agent Aggregated Magnitude (pr=%s,pc=%s)\"%(pr,pc))\n",
    "plt.legend()\n",
    "plt.xlabel(\"Time Step\")\n",
    "plt.ylabel(\"Magnitude\")\n",
    "plt.show()"
   ]
  },
  {
   "source": [
    "DISTANCE"
   ],
   "cell_type": "markdown",
   "metadata": {}
  },
  {
   "cell_type": "code",
   "execution_count": 14,
   "metadata": {},
   "outputs": [],
   "source": [
    "#GRAPH 4.3\n",
    "#BASIC MEAN DISTANCE METRIC FOR SET pr\n",
    "%matplotlib qt\n",
    "#SET pr to required dataset\n",
    "pr = 1.0\n",
    "pckeys = list(pcdict.keys())\n",
    "pcloop = 0\n",
    "for m in MEANDISTDATA[prdict[pr]]:\n",
    "    plt.plot(m.STEP,m.DIST,label=(\"pc=%s\"%(pckeys[pcloop])))\n",
    "    pcloop += 1\n",
    "plt.title(\"Inter-agent MEAN Aggregated Distance (pr=%s)\"%(pr))\n",
    "plt.legend()\n",
    "plt.xlabel(\"Time Step\")\n",
    "plt.ylabel(\"Distance\")\n",
    "plt.show()"
   ]
  },
  {
   "cell_type": "code",
   "execution_count": 15,
   "metadata": {},
   "outputs": [],
   "source": [
    "#GRAPH 4.4\n",
    "#BASIC STD DISTANCE METRIC FOR SET pr\n",
    "%matplotlib qt\n",
    "#SET pr to required dataset\n",
    "pr = 1.0\n",
    "pckeys = list(pcdict.keys())\n",
    "pcloop = 0\n",
    "for s in STDDISTDATA[prdict[pr]]:\n",
    "    plt.plot(s.STEP,s.DIST,label=(\"pc=%s\"%(pckeys[pcloop])))\n",
    "    pcloop += 1\n",
    "plt.title(\"Inter-agent STD Aggregated Distance (pr=%s)\"%(pr))\n",
    "plt.legend()\n",
    "plt.xlabel(\"Time Step\")\n",
    "plt.ylabel(\"Distance\")\n",
    "plt.show()"
   ]
  },
  {
   "cell_type": "code",
   "execution_count": 16,
   "metadata": {},
   "outputs": [],
   "source": [
    "#GRAPH 4.5\n",
    "#ERROR GRAPH DISTANCE METRIC FOR SET pr and pc\n",
    "%matplotlib qt\n",
    "#SET pr and pc to required dataset. See table above\n",
    "pr=1.0\n",
    "pc=1.0\n",
    "plt.errorbar(MEANDISTDATA[prdict[pr]][pcdict[pc]].STEP,MEANDISTDATA[prdict[pr]][pcdict[pc]].DIST,STDDISTDATA[prdict[pr]][pcdict[pc]].DIST,label='Distance',ecolor='red',color='black')\n",
    "plt.title(\"Inter-agent Aggregated Distance (pr=%s,pc=%s)\"%(pr,pc))\n",
    "plt.legend()\n",
    "plt.xlabel(\"Time Step\")\n",
    "plt.ylabel(\"Distance\")\n",
    "plt.show()"
   ]
  },
  {
   "cell_type": "code",
   "execution_count": 17,
   "metadata": {},
   "outputs": [],
   "source": [
    "#PERIMETER AND INTERNAL DATA CALCULATIONS\n",
    "CPPDATAMEAN=[]\n",
    "CINTDATAMEAN=[]\n",
    "CPPDATA = []\n",
    "CINTDATA = []\n",
    "for x in np.arange(0,len(CDATA),1) :\n",
    "    for y in np.arange(0,len(CDATA[0]),1) :\n",
    "        CPP = CDATA[x][y].query(\"PPERIM==True and NPERIM==True\").groupby('STEP').mean(0).reset_index()\n",
    "        CINT = CDATA[x][y].query(\"PPERIM!=True or NPERIM!=True\").groupby('STEP').mean(0).reset_index()\n",
    "        CPPDATA.append(CPP)\n",
    "        CINTDATA.append(CINT)\n",
    "    CPPDATAMEAN.append(CPPDATA)\n",
    "    CINTDATAMEAN.append(CINTDATA)\n",
    "    CPPDATA=[]\n",
    "    CINTDATA=[]\n",
    "#Calculate std of each timestep for all experiments\n",
    "CPPDATASTD=[]\n",
    "CINTDATASTD=[]\n",
    "CPPDATA = []\n",
    "CINTDATA = []\n",
    "for x in np.arange(0,len(CDATA),1) :\n",
    "    for y in np.arange(0,len(CDATA[0]),1) :\n",
    "        CPP = CDATA[x][y].query(\"PPERIM==True and NPERIM==True\").groupby('STEP').std(0).reset_index()\n",
    "        CINT = CDATA[x][y].query(\"PPERIM!=True or NPERIM!=True\").groupby('STEP').std(0).reset_index()\n",
    "        CPPDATA.append(CPP)\n",
    "        CINTDATA.append(CINT)\n",
    "    CPPDATASTD.append(CPPDATA)\n",
    "    CINTDATASTD.append(CINTDATA)\n",
    "    CPPDATA=[]\n",
    "    CINTDATA=[]\n"
   ]
  },
  {
   "cell_type": "code",
   "execution_count": 18,
   "metadata": {},
   "outputs": [],
   "source": [
    "#GRAPH 4.6\n",
    "#COMPARISON OF MEAN DISTANCES FOR SET pr\n",
    "%matplotlib qt\n",
    "#SET pr to required dataset\n",
    "pr = 1.0\n",
    "pckeys = list(pcdict.keys())\n",
    "pcloop = 0\n",
    "for s in CPPDATAMEAN[prdict[pr]]:\n",
    "    plt.plot(s.STEP,s.DIST,label=(\"pc=%s\"%(pckeys[pcloop])))\n",
    "    pcloop += 1\n",
    "pcloop = 0\n",
    "for s in CINTDATAMEAN[prdict[pr]]:\n",
    "    plt.plot(s.STEP,s.DIST,label=(\"pc=%s\"%(pckeys[pcloop])))\n",
    "    pcloop += 1\n",
    "plt.title(\"Inter-agent P_P/INT MEAN Aggregated Distance (pr=%s)\"%(pr))\n",
    "plt.legend()\n",
    "plt.xlabel(\"Time Step\")\n",
    "plt.ylabel(\"Distance\")\n",
    "plt.show()"
   ]
  },
  {
   "cell_type": "code",
   "execution_count": 30,
   "metadata": {},
   "outputs": [],
   "source": [
    "#GRAPH 4.7\n",
    "#COMPARISON OF MEAN FOR INTERNAL AGENTS FOR 2 EXPERIMENTS MEAN DISTANCES\n",
    "%matplotlib qt\n",
    "#SET pr to required dataset\n",
    "pr = 1.0\n",
    "pc = 1.0\n",
    "pr2 = 0.8 \n",
    "pc2 = 100\n",
    "plt.plot(CINTDATAMEAN[prdict[pr]][pcdict[pc]].STEP,CINTDATAMEAN[prdict[pr]][pcdict[pc]].DIST,label=(\"pr=%s,pc=%s\"%(pr,pc)))\n",
    "plt.plot(CINTDATAMEAN[prdict[pr2]][pcdict[pc2]].STEP,CINTDATAMEAN[prdict[pr]][pcdict[pc2]].DIST,label=(\"pr=%s,pc=%s\"%(pr2,pc2)))\n",
    "plt.title(\"Inter-agent Internal Agent-Agent MEAN Aggregated Distance\")\n",
    "plt.legend()\n",
    "plt.xlabel(\"Time Step\")\n",
    "plt.ylabel(\"Distance\")\n",
    "plt.show()"
   ]
  },
  {
   "cell_type": "code",
   "execution_count": 37,
   "metadata": {},
   "outputs": [],
   "source": [
    "#GRAPH 4.8\n",
    "#COMPARISON OF MEAN FOR PERIM-PERIM AGENTS FOR 2 EXPERIMENTS MEAN DISTANCES\n",
    "%matplotlib qt\n",
    "pr = 1.0\n",
    "pc = 1.0\n",
    "pr2 = 0.8 \n",
    "pc2 = 100\n",
    "plt.plot(CPPDATAMEAN[prdict[pr]][pcdict[pc]].STEP,CPPDATAMEAN[prdict[pr]][pcdict[pc]].DIST,label=(\"pr=%s,pc=%s\"%(pr,pc)))\n",
    "plt.plot(CPPDATAMEAN[prdict[pr2]][pcdict[pc2]].STEP,CPPDATAMEAN[prdict[pr]][pcdict[pc2]].DIST,label=(\"pr=%s,pc=%s\"%(pr2,pc2)))\n",
    "plt.title(\"Inter-agent P_P MEAN Aggregated Distance\")\n",
    "plt.legend()\n",
    "plt.xlabel(\"Time Step\")\n",
    "plt.ylabel(\"Distance\")\n",
    "plt.show()"
   ]
  },
  {
   "cell_type": "code",
   "execution_count": 32,
   "metadata": {},
   "outputs": [],
   "source": [
    "#GRAPH 4.9\n",
    "#COMPARISON OF STD FOR INTERNAL/P-P AGENTS FOR set pr\n",
    "%matplotlib qt\n",
    "#SET pr to required dataset\n",
    "pr = 1.0\n",
    "pckeys = list(pcdict.keys())\n",
    "pcloop = 0\n",
    "for s in CPPDATASTD[prdict[pr]]:\n",
    "    plt.plot(s.STEP,s.DIST,label=(\"pc=%s\"%(pckeys[pcloop])))\n",
    "    pcloop += 1\n",
    "pcloop = 0\n",
    "for s in CINTDATASTD[prdict[pr]]:\n",
    "    plt.plot(s.STEP,s.DIST,label=(\"pc=%s\"%(pckeys[pcloop])))\n",
    "    pcloop += 1\n",
    "plt.title(\"Inter-agent P_P/INT STD Aggregated Distance (pr=%s)\"%(pr))\n",
    "plt.legend()\n",
    "plt.xlabel(\"Time Step\")\n",
    "plt.ylabel(\"Distance\")\n",
    "plt.show()"
   ]
  },
  {
   "cell_type": "code",
   "execution_count": 35,
   "metadata": {},
   "outputs": [],
   "source": [
    "#GRAPH 4.10\n",
    "#COMPARISON OF MEAN FOR INTERNAL/P-P AGENTS FOR SET pr and SETR pc (SINGLE EXPERIMENT)\n",
    "%matplotlib qt\n",
    "#SET pr and pc to required dataset. See table above\n",
    "pr=1.0\n",
    "pc=1.0\n",
    "plt.errorbar(CINTDATAMEAN[prdict[pr]][pcdict[pc]].STEP,CINTDATAMEAN[prdict[pr]][pcdict[pc]].DIST,CINTDATASTD[prdict[pr]][pcdict[pc]].DIST,label='Distance',ecolor='red',color='black')\n",
    "plt.title(\"Internal Inter-agent Aggregated Distance (pr=%s,pc=%s)\"%(pr,pc))\n",
    "plt.legend()\n",
    "plt.xlabel(\"Time Step\")\n",
    "plt.ylabel(\"Distance\")\n",
    "plt.show()"
   ]
  },
  {
   "cell_type": "code",
   "execution_count": 34,
   "metadata": {},
   "outputs": [],
   "source": [
    "#GRAPH 4.11\n",
    "#ERROR GRAPH FOR MEAN DISTANCE METRIC FOR SET pr and pc\n",
    "%matplotlib qt\n",
    "#SET pr and pc to required dataset. See table above\n",
    "pr=1.0\n",
    "pc=1.0\n",
    "plt.errorbar(CPPDATAMEAN[prdict[pr]][pcdict[pc]].STEP,CPPDATAMEAN[prdict[pr]][pcdict[pc]].DIST,CPPDATASTD[prdict[pr]][pcdict[pc]].DIST,label='Distance',ecolor='red',color='black')\n",
    "plt.title(\"Perimeter Inter-agent Aggregated Distance (pr=%s,pc=%s)\"%(pr,pc))\n",
    "plt.legend()\n",
    "plt.xlabel(\"Time Step\")\n",
    "plt.ylabel(\"Distance\")\n",
    "plt.show()"
   ]
  },
  {
   "cell_type": "markdown",
   "metadata": {},
   "source": [
    "<H3>SURFACE PLOTS</H3>"
   ]
  },
  {
   "cell_type": "markdown",
   "metadata": {},
   "source": [
    "BOILER FUNCTIONS"
   ]
  },
  {
   "cell_type": "code",
   "execution_count": 23,
   "metadata": {},
   "outputs": [],
   "source": [
    "def mean_value(x,y,slice):\n",
    "    i,j = x.shape\n",
    "    ans = np.empty_like(x)\n",
    "    for ii in np.arange(0,i-1,1) :\n",
    "        for jj in np.arange(0,j-1,1) :\n",
    "            ans[ii][jj] = MEANDATA[ii][jj][\"IMAG\"][slice]\n",
    "    return ans\n",
    "\n",
    "def std_value(x,y,slice):\n",
    "    i,j = x.shape\n",
    "    ans = np.empty_like(x)\n",
    "    for ii in np.arange(0,i-1,1) :\n",
    "        for jj in np.arange(0,j-1,1) :\n",
    "            ans[ii][jj] = STDDATA[ii][jj][\"IMAG\"][slice]\n",
    "    return ans"
   ]
  },
  {
   "cell_type": "code",
   "execution_count": 24,
   "metadata": {
    "tags": []
   },
   "outputs": [
    {
     "output_type": "execute_result",
     "data": {
      "text/plain": [
       "<mpl_toolkits.mplot3d.art3d.Poly3DCollection at 0x17f1319f700>"
      ]
     },
     "metadata": {},
     "execution_count": 24
    }
   ],
   "source": [
    "SMALL_SIZE = 8\n",
    "MEDIUM_SIZE = 10\n",
    "BIGGER_SIZE = 16\n",
    "#Font sizes modifiers for inclusion in papers. \n",
    "plt.rc('font', size=BIGGER_SIZE)          # controls default text sizes\n",
    "plt.rc('axes', titlesize=BIGGER_SIZE)     # fontsize of the axes title\n",
    "plt.rc('axes', labelsize=BIGGER_SIZE)    # fontsize of the x and y labels\n",
    "plt.rc('xtick', labelsize=BIGGER_SIZE)    # fontsize of the tick labels\n",
    "plt.rc('ytick', labelsize=BIGGER_SIZE)    # fontsize of the tick labels\n",
    "plt.rc('legend', fontsize=BIGGER_SIZE)    # legend fontsize\n",
    "plt.rc('figure', titlesize=BIGGER_SIZE)  # fontsize of the figure title\n",
    "%matplotlib qt\n",
    "epoch = 100\n",
    "xx,yy = np.meshgrid(np.arange(0,len(SDATA),1),np.arange(0,len(SDATA[0]),1))\n",
    "F = mean_value(xx,yy,epoch)\n",
    "\n",
    "fig = plt.figure()\n",
    "ax = fig.gca(projection='3d')\n",
    "ax.set_title(\"Inter-agent Aggregated MEAN Magnitudes @ epoch:%d\"%epoch)\n",
    "ax.set_xlabel(\"pr\")\n",
    "ax.set_ylabel(\"pc\")\n",
    "ax.set_zlabel(\"Magnitude\")\n",
    "ax.plot_surface(xx,yy,F, cmap=cm.coolwarm)"
   ]
  },
  {
   "cell_type": "code",
   "execution_count": 25,
   "metadata": {},
   "outputs": [
    {
     "output_type": "execute_result",
     "data": {
      "text/plain": [
       "<mpl_toolkits.mplot3d.art3d.Poly3DCollection at 0x17f131ec310>"
      ]
     },
     "metadata": {},
     "execution_count": 25
    }
   ],
   "source": [
    "%matplotlib qt\n",
    "xx,yy = np.meshgrid(np.arange(0,len(SDATA),1),np.arange(0,len(SDATA[0]),1))\n",
    "F = mean_value(xx,yy,epoch)\n",
    "\n",
    "fig = plt.figure()\n",
    "ax = fig.gca(projection='3d')\n",
    "ax.set_title(\"Inter-agent Aggregated STD Magnitudes @ epoch:%d\"%epoch)\n",
    "ax.set_xlabel(\"pr\")\n",
    "ax.set_ylabel(\"pc\")\n",
    "ax.set_zlabel(\"Magnitude\")\n",
    "ax.plot_surface(xx,yy,F, cmap=cm.coolwarm)"
   ]
  },
  {
   "cell_type": "code",
   "execution_count": null,
   "metadata": {},
   "outputs": [],
   "source": []
  }
 ],
 "metadata": {
  "kernelspec": {
   "name": "python385jvsc74a57bd0058cd4d169c4921e4d7ed593a865c6696f20d63934827a5ea460cf923500fd23",
   "display_name": "Python 3.8.5 64-bit ('base': conda)"
  },
  "language_info": {
   "codemirror_mode": {
    "name": "ipython",
    "version": 3
   },
   "file_extension": ".py",
   "mimetype": "text/x-python",
   "name": "python",
   "nbconvert_exporter": "python",
   "pygments_lexer": "ipython3",
   "version": "3.8.5"
  }
 },
 "nbformat": 4,
 "nbformat_minor": 4
}