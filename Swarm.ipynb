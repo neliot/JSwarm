{
 "cells": [
  {
   "cell_type": "markdown",
   "metadata": {},
   "source": [
    "<H1>Basic Perimeter Compression Analysis</H1>\n",
    "Table shows parameters for the graphs below. Next stage is to develop the 3D surface plot for each timestep based on STD and MEAN to identify a possible gradient decent optimum.<p>\n",
    "<style type=\"text/css\">\n",
    "\ttable.tableizer-table {\n",
    "\t\tfont-size: 12px;\n",
    "\t\tborder: 1px solid #CCC; \n",
    "\t\tfont-family: Arial, Helvetica, sans-serif;\n",
    "\t} \n",
    "\t.tableizer-table td {\n",
    "\t\tpadding: 4px;\n",
    "\t\tmargin: 3px;\n",
    "\t\tborder: 1px solid #CCC;\n",
    "\t}\n",
    "\t.tableizer-table th {\n",
    "\t\tbackground-color: #104E8B; \n",
    "\t\tcolor: #FFF;\n",
    "\t\tfont-weight: bold;\n",
    "\t}\n",
    "</style>\n",
    "<table class=\"tableizer-table\">\n",
    "<thead><tr class=\"tableizer-firstrow\"><th>Pr/Pc</th><th>10</th><th>20</th><th>30</th><th>40</th><th>50</th><th>60</th><th>70</th><th>80</th><th>90</th><th>100</th></tr></thead><tbody>\n",
    " <tr><td>0.1</td><td>0,0</td><td>0,1</td><td>0,2</td><td>0,3</td><td>0,4</td><td>0,5</td><td>0,6</td><td>0,7</td><td>0,8</td><td>0,9</td></tr>\n",
    " <tr><td>0.2</td><td>1,0</td><td>1,1</td><td>1,2</td><td>1,3</td><td>1,4</td><td>1,5</td><td>1,6</td><td>1,7</td><td>1,8</td><td>1,9</td></tr>\n",
    " <tr><td>0.3</td><td>2,0</td><td>2,1</td><td>2,2</td><td>2,3</td><td>2,4</td><td>2,5</td><td>2,6</td><td>2,6</td><td>2,8</td><td>2,9</td></tr>\n",
    " <tr><td>0.4</td><td>3,0</td><td>3,1</td><td>3,2</td><td>3,3</td><td>3,4</td><td>3,5</td><td>3,6</td><td>3,7</td><td>3,8</td><td>3,9</td></tr>\n",
    " <tr><td>0.5</td><td>4,0</td><td>4,1</td><td>4,2</td><td>4,3</td><td>4,4</td><td>4,5</td><td>4,6</td><td>4,7</td><td>4,8</td><td>4,9</td></tr>\n",
    " <tr><td>0.6</td><td>5,0</td><td>5,1</td><td>5,2</td><td>5,3</td><td>5,4</td><td>5,5</td><td>5,6</td><td>5,7</td><td>5,8</td><td>5,9</td></tr>\n",
    " <tr><td>0.7</td><td>6,0</td><td>6,1</td><td>6,2</td><td>6,3</td><td>6,4</td><td>6,5</td><td>6,6</td><td>6,7</td><td>6,8</td><td>6,9</td></tr>\n",
    " <tr><td>0.8</td><td>7,0</td><td>7,1</td><td>7,2</td><td>7,3</td><td>7,4</td><td>7,5</td><td>7,6</td><td>7,7</td><td>7,8</td><td>7,9</td></tr>\n",
    " <tr><td>0.9</td><td>8,0</td><td>8,1</td><td>8,2</td><td>8,3</td><td>8,4</td><td>8,5</td><td>8,6</td><td>8,7</td><td>8,8</td><td>8,9</td></tr>\n",
    "</tbody></table>\n",
    "\n",
    "\t\t\t\t\t\t\t\t\n"
   ]
  },
  {
   "cell_type": "code",
   "execution_count": null,
   "metadata": {},
   "outputs": [],
   "source": [
    "import pandas as pd\n",
    "import numpy as np\n",
    "from mpl_toolkits.mplot3d import Axes3D\n",
    "from matplotlib import cm\n",
    "from pandas import DataFrame, read_csv\n",
    "import matplotlib.pyplot as plt\n",
    "pd.set_option('display.max_columns', 500)\n",
    "pd.set_option('display.width', 120)\n",
    "X = np.linspace(1,9,9)\n",
    "#X = np.linspace(1,5,5)\n",
    "Y = np.linspace(10,100,10)"
   ]
  },
  {
   "cell_type": "code",
   "execution_count": null,
   "metadata": {},
   "outputs": [],
   "source": [
    "# load all particle data from simulator\n",
    "S=[]\n",
    "C=[]\n",
    "SDATA=[]\n",
    "CDATA=[]\n",
    "for x in X:\n",
    "    for y in Y:\n",
    "        S.append(pd.DataFrame(pd.read_csv('data/csv/exp-0.%d0-%d.00.p.csv'%(x,y))))\n",
    "        C.append(pd.DataFrame(pd.read_csv('data/csv/exp-0.%d0-%d.00.c.csv'%(x,y))))\n",
    "    CDATA.append(C)\n",
    "    SDATA.append(S)\n",
    "    S=[]\n",
    "    C=[]"
   ]
  },
  {
   "cell_type": "code",
   "execution_count": null,
   "metadata": {},
   "outputs": [],
   "source": [
    "# Calculate perimeter data\n",
    "PDATA = []\n",
    "P = []\n",
    "for x in np.arange(0,len(SDATA),1) :\n",
    "    for y in np.arange(0,len(SDATA[0]),1) :\n",
    "        P.append(SDATA[x][y][[\"STEP\",\"PERIM\"]].query(\"PERIM == True\").groupby('STEP').count().reset_index())\n",
    "    PDATA.append(P)\n",
    "    P=[]"
   ]
  },
  {
   "cell_type": "code",
   "execution_count": null,
   "metadata": {},
   "outputs": [],
   "source": [
    "%matplotlib inline\n",
    "#SET pr to required dataset\n",
    "pr = 0\n",
    "pc = 0 # Do not change!\n",
    "for p in PDATA[pr]:\n",
    "    plt.plot(p.STEP,p.PERIM,label=(\"pc=%d0\"%(pc+1)))\n",
    "    pc += 1\n",
    "plt.legend()\n",
    "plt.title(\"Perimeter Agents - (pr=0.%d)\"%(pr+1))\n",
    "plt.xlabel(\"Time Step\")\n",
    "plt.ylabel(\"Count\")\n",
    "plt.show()"
   ]
  },
  {
   "cell_type": "code",
   "execution_count": null,
   "metadata": {},
   "outputs": [],
   "source": [
    "pr = 0\n",
    "pc = 0\n",
    "step = 50\n",
    "AGENTS=SDATA[pr][pc][[\"STEP\",\"ID\",\"X\",\"Y\"]].query(\"STEP==%d\" % step)\n",
    "NAGENTS=CDATA[pr][pc][[\"STEP\",\"PID\",\"ID\",\"X\",\"Y\",\"Z\"]].query(\"STEP==%d\" % step)\n",
    "LINKS=NAGENTS.merge(AGENTS, left_on=(\"PID\"), right_on=(\"NID\"), how=\"inner\", suffixes=(\"_N\",\"_P\")) \n",
    "#CS = SDATA[pr][pc].merge(CDATA[pr][pc], left_on=('STEP','ID'), right_on=('STEP','PID'), how=\"inner\" ,suffixes=('_S','_C'))[[\"STEP\",\"X_S\",\"Y_S\",\"X_C\",\"Y_C\"]].query(\"STEP == %d\" % step)"
   ]
  },
  {
   "cell_type": "code",
   "execution_count": null,
   "metadata": {},
   "outputs": [],
   "source": [
    "LINKS"
   ]
  },
  {
   "cell_type": "code",
   "execution_count": null,
   "metadata": {},
   "outputs": [],
   "source": [
    "%matplotlib qt\n",
    "#for i,row in NAGENTS.iterrows():\n",
    "#    plt.plot([row[\"PX\"], row[\"NX\"]], [row[\"PY\"], row[\"NY\"]],\"ko-\")\n",
    "for i,row in LINKS.iterrows():\n",
    "    plt.plot([row[\"X_P\"], row[\"X_N\"]], [row[\"Y_P\"], row[\"Y_N\"]],\"ko-\")\n",
    "plt.scatter(AGENTS[\"X\"],AGENTS[\"Y\"],s=100)\n",
    "plt.title(\"Swarm position at STEP:[%d][pr=0.%d,pc=%d0]\"%(step,pr+1,pc+1))\n",
    "plt.grid()\n",
    "plt.gca().set_aspect(\"equal\")\n",
    "plt.xlabel(\"X\")\n",
    "plt.ylabel(\"Y\")\n",
    "plt.tight_layout()\n",
    "plt.show()\n"
   ]
  },
  {
   "cell_type": "code",
   "execution_count": null,
   "metadata": {},
   "outputs": [],
   "source": [
    "%matplotlib qt\n",
    "fig = plt.figure()\n",
    "ax1 = fig.add_subplot(111)\n",
    "start = 0\n",
    "end = 3001\n",
    "step = 100\n",
    "for x in np.arange(start,end,step) :\n",
    "    state = SDATA[pr][pc][SDATA[pr][pc][\"STEP\"]==x].reset_index()\n",
    "    ax1.scatter(state[\"X\"],state[\"Y\"], label=\"STEP %d\"%x, s=(x+2)/8)\n",
    "\n",
    "plt.title(\"Agent positions STEP:[%d,%d:%d][pr=0.%d,pc=%d0]\"%(start,end,step,pr+1,pc+1))\n",
    "plt.xlim([-23, 23])\n",
    "plt.ylim([-12, 15])\n",
    "plt.grid()\n",
    "plt.legend()\n",
    "plt.xlabel(\"X\")\n",
    "plt.ylabel(\"Y\")\n",
    "plt.tight_layout()\n",
    "plt.show()"
   ]
  },
  {
   "cell_type": "code",
   "execution_count": null,
   "metadata": {},
   "outputs": [],
   "source": [
    "#Calculate mean of each timestep for all experiments\n",
    "MEANDATA = []\n",
    "MEAN = []\n",
    "for x in np.arange(0,len(SDATA),1) :\n",
    "    for y in np.arange(0,len(SDATA[0]),1) :\n",
    "        MEAN.append(SDATA[x][y][[\"STEP\",\"IMAG\"]].groupby('STEP').mean(0).reset_index())\n",
    "    MEANDATA.append(MEAN)\n",
    "    MEAN=[]\n",
    "#Calculate std of each timestep for all experiments\n",
    "STDDATA = []\n",
    "STD = []\n",
    "for x in np.arange(0,len(SDATA),1) :\n",
    "    for y in np.arange(0,len(SDATA[0]),1) :\n",
    "        STD.append(SDATA[x][y][[\"STEP\",\"IMAG\"]].groupby('STEP').std(0).reset_index())\n",
    "    STDDATA.append(STD)\n",
    "    STD=[]\n"
   ]
  },
  {
   "cell_type": "code",
   "execution_count": null,
   "metadata": {},
   "outputs": [],
   "source": [
    "%matplotlib inline\n",
    "#SET pr to required dataset\n",
    "pr = 3\n",
    "pc = 0 # Do not change!\n",
    "for m in MEANDATA[pr]:\n",
    "    plt.plot(m.STEP,m.IMAG,label=(\"pc=%d0\"%(pc+1)))\n",
    "    pc += 1\n",
    "plt.title(\"Inter-agent MEAN Aggregated Magnitude (pr=0.%d)\"%(pr+1))\n",
    "plt.legend()\n",
    "plt.xlabel(\"Time Step\")\n",
    "plt.ylabel(\"Magnitude\")\n",
    "plt.show()"
   ]
  },
  {
   "cell_type": "code",
   "execution_count": null,
   "metadata": {},
   "outputs": [],
   "source": [
    "%matplotlib inline\n",
    "#SET pr to required dataset\n",
    "pr = 0\n",
    "pc = 0 # Do not change!\n",
    "for s in STDDATA[pr]:\n",
    "    plt.plot(s.STEP,s.IMAG,label=(\"pc=%d0\"%(pc+1)))\n",
    "    pc += 1\n",
    "plt.title(\"Inter-agent STD Aggregated Magnitude (pr=0.%d)\"%(pr+1))\n",
    "plt.legend()\n",
    "plt.xlabel(\"Time Step\")\n",
    "plt.ylabel(\"Magnitude\")\n",
    "plt.show()"
   ]
  },
  {
   "cell_type": "code",
   "execution_count": null,
   "metadata": {},
   "outputs": [],
   "source": [
    "%matplotlib qt\n",
    "#SET pr and pc to required dataset. See table above\n",
    "pr=8\n",
    "pc=9\n",
    "plt.errorbar(MEANDATA[pr][pc].STEP,MEANDATA[pr][pc].IMAG,STDDATA[pr][pc].IMAG,label='Cohesion magnitude',ecolor='red',color='black')\n",
    "plt.title(\"Inter-agent Aggregated Magnitude (pr=0.%d,pc=%d0)\"%(pr+1,pc+1))\n",
    "plt.legend()\n",
    "plt.xlabel(\"Time Step\")\n",
    "plt.ylabel(\"Magnitude\")\n",
    "plt.show()"
   ]
  },
  {
   "cell_type": "code",
   "execution_count": null,
   "metadata": {},
   "outputs": [],
   "source": [
    "def mean_value(x,y,slice):\n",
    "    i,j = x.shape\n",
    "    ans = np.empty_like(x)\n",
    "    for ii in np.arange(0,i-1,1) :\n",
    "        for jj in np.arange(0,j-1,1) :\n",
    "            ans[ii][jj] = MEANDATA[ii][jj][\"IMAG\"][slice]\n",
    "    return ans\n",
    "\n",
    "def std_value(x,y,slice):\n",
    "    i,j = x.shape\n",
    "    ans = np.empty_like(x)\n",
    "    for ii in np.arange(0,i-1,1) :\n",
    "        for jj in np.arange(0,j-1,1) :\n",
    "            ans[ii][jj] = STDDATA[ii][jj][\"IMAG\"][slice]\n",
    "    return ans"
   ]
  },
  {
   "cell_type": "code",
   "execution_count": null,
   "metadata": {
    "tags": []
   },
   "outputs": [],
   "source": [
    "SMALL_SIZE = 8\n",
    "MEDIUM_SIZE = 10\n",
    "BIGGER_SIZE = 16\n",
    "#Font sizes modifiers for inclusion in papers. \n",
    "plt.rc('font', size=BIGGER_SIZE)          # controls default text sizes\n",
    "plt.rc('axes', titlesize=BIGGER_SIZE)     # fontsize of the axes title\n",
    "plt.rc('axes', labelsize=BIGGER_SIZE)    # fontsize of the x and y labels\n",
    "plt.rc('xtick', labelsize=BIGGER_SIZE)    # fontsize of the tick labels\n",
    "plt.rc('ytick', labelsize=BIGGER_SIZE)    # fontsize of the tick labels\n",
    "plt.rc('legend', fontsize=BIGGER_SIZE)    # legend fontsize\n",
    "plt.rc('figure', titlesize=BIGGER_SIZE)  # fontsize of the figure title\n",
    "%matplotlib qt\n",
    "epoch = 500\n",
    "xx,yy = np.meshgrid(np.arange(0,len(SDATA),1),np.arange(0,len(SDATA[0]),1))\n",
    "F = mean_value(xx,yy,epoch)\n",
    "\n",
    "fig = plt.figure()\n",
    "ax = fig.gca(projection='3d')\n",
    "ax.set_title(\"Inter-agent Aggregated MEAN Magnitudes @ epoch:%d\"%epoch)\n",
    "ax.set_xlabel(\"pr\")\n",
    "ax.set_ylabel(\"pc\")\n",
    "ax.set_zlabel(\"Magnitude\")\n",
    "ax.plot_surface(xx,yy,F, cmap=cm.coolwarm)"
   ]
  },
  {
   "cell_type": "code",
   "execution_count": null,
   "metadata": {},
   "outputs": [],
   "source": [
    "%matplotlib qt\n",
    "epoch = 0\n",
    "xx,yy = np.meshgrid(np.arange(0,len(SDATA),1),np.arange(0,len(SDATA[0]),1))\n",
    "F = mean_value(xx,yy,epoch)\n",
    "\n",
    "fig = plt.figure()\n",
    "ax = fig.gca(projection='3d')\n",
    "ax.set_title(\"Inter-agent Aggregated STD Magnitudes @ epoch:%d\"%epoch)\n",
    "ax.set_xlabel(\"pr\")\n",
    "ax.set_ylabel(\"pc\")\n",
    "ax.set_zlabel(\"Magnitude\")\n",
    "ax.plot_surface(xx,yy,F, cmap=cm.coolwarm)"
   ]
  }
 ],
 "metadata": {
  "kernelspec": {
   "display_name": "Python 3",
   "language": "python",
   "name": "python3"
  },
  "language_info": {
   "codemirror_mode": {
    "name": "ipython",
    "version": 3
   },
   "file_extension": ".py",
   "mimetype": "text/x-python",
   "name": "python",
   "nbconvert_exporter": "python",
   "pygments_lexer": "ipython3",
   "version": "3.7.9-final"
  }
 },
 "nbformat": 4,
 "nbformat_minor": 4
}